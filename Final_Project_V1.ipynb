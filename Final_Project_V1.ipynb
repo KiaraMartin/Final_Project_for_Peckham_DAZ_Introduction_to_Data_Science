{
 "cells": [
  {
   "cell_type": "markdown",
   "id": "f79866c5",
   "metadata": {},
   "source": [
    "\n",
    "# Final Project\n",
    "\n",
    "This is the final project of Kiara Martin for the Peckham Digital Accelerator Zone: Introduction to Data Science course. \n",
    "\n",
    "I will be comparing annual sunshine and rainfall data in England from 2015-2024 against annual chlamydia diagnoses in people aged 15 to 24 years in England between 2015 to 2024, in attempts to identify a possible correlation between the two datasets."
   ]
  },
  {
   "cell_type": "markdown",
   "id": "7f5743d2",
   "metadata": {},
   "source": [
    "\n",
    "## Imports\n",
    "\n",
    "Importing libraries and data files.\n",
    "Double checking the pathwaty of the data files."
   ]
  },
  {
   "cell_type": "code",
   "execution_count": 124,
   "id": "183322df",
   "metadata": {},
   "outputs": [],
   "source": [
    "# installs\n",
    "# !pip install pandas matplotlib\n",
    "# !pip install plotly\n",
    "# %pip install nbformat"
   ]
  },
  {
   "cell_type": "code",
   "execution_count": 125,
   "id": "22ab51d3",
   "metadata": {},
   "outputs": [],
   "source": [
    "import pandas as pd # Data manipulation library\n",
    "import matplotlib.pyplot as plt # Plotting library\n",
    "import plotly.express as px # Plotting library\n",
    "import plotly.graph_objects as go # Plotting library"
   ]
  },
  {
   "cell_type": "code",
   "execution_count": 126,
   "id": "2c141a66",
   "metadata": {},
   "outputs": [
    {
     "data": {
      "text/html": [
       "<div>\n",
       "<style scoped>\n",
       "    .dataframe tbody tr th:only-of-type {\n",
       "        vertical-align: middle;\n",
       "    }\n",
       "\n",
       "    .dataframe tbody tr th {\n",
       "        vertical-align: top;\n",
       "    }\n",
       "\n",
       "    .dataframe thead th {\n",
       "        text-align: right;\n",
       "    }\n",
       "</style>\n",
       "<table border=\"1\" class=\"dataframe\">\n",
       "  <thead>\n",
       "    <tr style=\"text-align: right;\">\n",
       "      <th></th>\n",
       "      <th>year</th>\n",
       "      <th>ann</th>\n",
       "    </tr>\n",
       "  </thead>\n",
       "  <tbody>\n",
       "    <tr>\n",
       "      <th>0</th>\n",
       "      <td>1910</td>\n",
       "      <td>1373.5</td>\n",
       "    </tr>\n",
       "    <tr>\n",
       "      <th>1</th>\n",
       "      <td>1911</td>\n",
       "      <td>1662.3</td>\n",
       "    </tr>\n",
       "    <tr>\n",
       "      <th>2</th>\n",
       "      <td>1912</td>\n",
       "      <td>1202.6</td>\n",
       "    </tr>\n",
       "    <tr>\n",
       "      <th>3</th>\n",
       "      <td>1913</td>\n",
       "      <td>1254.5</td>\n",
       "    </tr>\n",
       "    <tr>\n",
       "      <th>4</th>\n",
       "      <td>1914</td>\n",
       "      <td>1522.3</td>\n",
       "    </tr>\n",
       "    <tr>\n",
       "      <th>...</th>\n",
       "      <td>...</td>\n",
       "      <td>...</td>\n",
       "    </tr>\n",
       "    <tr>\n",
       "      <th>111</th>\n",
       "      <td>2021</td>\n",
       "      <td>1486.9</td>\n",
       "    </tr>\n",
       "    <tr>\n",
       "      <th>112</th>\n",
       "      <td>2022</td>\n",
       "      <td>1741.4</td>\n",
       "    </tr>\n",
       "    <tr>\n",
       "      <th>113</th>\n",
       "      <td>2023</td>\n",
       "      <td>1559.3</td>\n",
       "    </tr>\n",
       "    <tr>\n",
       "      <th>114</th>\n",
       "      <td>2024</td>\n",
       "      <td>1394.6</td>\n",
       "    </tr>\n",
       "    <tr>\n",
       "      <th>115</th>\n",
       "      <td>2025</td>\n",
       "      <td></td>\n",
       "    </tr>\n",
       "  </tbody>\n",
       "</table>\n",
       "<p>116 rows × 2 columns</p>\n",
       "</div>"
      ],
      "text/plain": [
       "     year       ann\n",
       "0      1910  1373.5\n",
       "1      1911  1662.3\n",
       "2      1912  1202.6\n",
       "3      1913  1254.5\n",
       "4      1914  1522.3\n",
       "..      ...     ...\n",
       "111    2021  1486.9\n",
       "112    2022  1741.4\n",
       "113    2023  1559.3\n",
       "114    2024  1394.6\n",
       "115    2025        \n",
       "\n",
       "[116 rows x 2 columns]"
      ]
     },
     "execution_count": 126,
     "metadata": {},
     "output_type": "execute_result"
    }
   ],
   "source": [
    "sunshine_data_path = 'Raw_data/Sunshine_England.csv' # Path to the sunshine data CSV file\n",
    "sunshine_df = pd.read_csv(sunshine_data_path) # Load the sunshine data into a DataFrame\n",
    "sunshine_df # Display the first few rows of the sunshine data"
   ]
  },
  {
   "cell_type": "code",
   "execution_count": 127,
   "id": "2cb57cb3",
   "metadata": {},
   "outputs": [
    {
     "data": {
      "text/html": [
       "<div>\n",
       "<style scoped>\n",
       "    .dataframe tbody tr th:only-of-type {\n",
       "        vertical-align: middle;\n",
       "    }\n",
       "\n",
       "    .dataframe tbody tr th {\n",
       "        vertical-align: top;\n",
       "    }\n",
       "\n",
       "    .dataframe thead th {\n",
       "        text-align: right;\n",
       "    }\n",
       "</style>\n",
       "<table border=\"1\" class=\"dataframe\">\n",
       "  <thead>\n",
       "    <tr style=\"text-align: right;\">\n",
       "      <th></th>\n",
       "      <th>year</th>\n",
       "      <th>ann</th>\n",
       "    </tr>\n",
       "  </thead>\n",
       "  <tbody>\n",
       "    <tr>\n",
       "      <th>0</th>\n",
       "      <td>1836</td>\n",
       "      <td>885.2</td>\n",
       "    </tr>\n",
       "    <tr>\n",
       "      <th>1</th>\n",
       "      <td>1837</td>\n",
       "      <td>746.5</td>\n",
       "    </tr>\n",
       "    <tr>\n",
       "      <th>2</th>\n",
       "      <td>1838</td>\n",
       "      <td>757.1</td>\n",
       "    </tr>\n",
       "    <tr>\n",
       "      <th>3</th>\n",
       "      <td>1839</td>\n",
       "      <td>918.1</td>\n",
       "    </tr>\n",
       "    <tr>\n",
       "      <th>4</th>\n",
       "      <td>1840</td>\n",
       "      <td>688.7</td>\n",
       "    </tr>\n",
       "    <tr>\n",
       "      <th>...</th>\n",
       "      <td>...</td>\n",
       "      <td>...</td>\n",
       "    </tr>\n",
       "    <tr>\n",
       "      <th>185</th>\n",
       "      <td>2021</td>\n",
       "      <td>877.3</td>\n",
       "    </tr>\n",
       "    <tr>\n",
       "      <th>186</th>\n",
       "      <td>2022</td>\n",
       "      <td>778.8</td>\n",
       "    </tr>\n",
       "    <tr>\n",
       "      <th>187</th>\n",
       "      <td>2023</td>\n",
       "      <td>1066.2</td>\n",
       "    </tr>\n",
       "    <tr>\n",
       "      <th>188</th>\n",
       "      <td>2024</td>\n",
       "      <td>1020.1</td>\n",
       "    </tr>\n",
       "    <tr>\n",
       "      <th>189</th>\n",
       "      <td>2025</td>\n",
       "      <td></td>\n",
       "    </tr>\n",
       "  </tbody>\n",
       "</table>\n",
       "<p>190 rows × 2 columns</p>\n",
       "</div>"
      ],
      "text/plain": [
       "     year       ann\n",
       "0      1836   885.2\n",
       "1      1837   746.5\n",
       "2      1838   757.1\n",
       "3      1839   918.1\n",
       "4      1840   688.7\n",
       "..      ...     ...\n",
       "185    2021   877.3\n",
       "186    2022   778.8\n",
       "187    2023  1066.2\n",
       "188    2024  1020.1\n",
       "189    2025        \n",
       "\n",
       "[190 rows x 2 columns]"
      ]
     },
     "execution_count": 127,
     "metadata": {},
     "output_type": "execute_result"
    }
   ],
   "source": [
    "rainfall_data_path = 'Raw_data/Rainfall_England.csv' # Path to the rainfall data CSV file\n",
    "rainfall_df = pd.read_csv(rainfall_data_path) # Load the rainfall data into a DataFrame\n",
    "rainfall_df # Display the first few rows of the rainfall data\n"
   ]
  },
  {
   "cell_type": "code",
   "execution_count": 128,
   "id": "c6e8b4a4",
   "metadata": {},
   "outputs": [
    {
     "data": {
      "text/html": [
       "<div>\n",
       "<style scoped>\n",
       "    .dataframe tbody tr th:only-of-type {\n",
       "        vertical-align: middle;\n",
       "    }\n",
       "\n",
       "    .dataframe tbody tr th {\n",
       "        vertical-align: top;\n",
       "    }\n",
       "\n",
       "    .dataframe thead th {\n",
       "        text-align: right;\n",
       "    }\n",
       "</style>\n",
       "<table border=\"1\" class=\"dataframe\">\n",
       "  <thead>\n",
       "    <tr style=\"text-align: right;\">\n",
       "      <th></th>\n",
       "      <th>Area of residence</th>\n",
       "      <th>Tests or diagnoses</th>\n",
       "      <th>Gender identity\\n[note 5]</th>\n",
       "      <th>Age</th>\n",
       "      <th>2015</th>\n",
       "      <th>2016</th>\n",
       "      <th>2017</th>\n",
       "      <th>2018</th>\n",
       "      <th>2019</th>\n",
       "      <th>2020 \\n[note 10]</th>\n",
       "      <th>2021\\n[note 10]</th>\n",
       "      <th>2022</th>\n",
       "      <th>2023</th>\n",
       "      <th>2024</th>\n",
       "      <th>Percentage change\\n2023 to 2024</th>\n",
       "      <th>Unnamed: 15</th>\n",
       "      <th>Unnamed: 16</th>\n",
       "    </tr>\n",
       "  </thead>\n",
       "  <tbody>\n",
       "    <tr>\n",
       "      <th>0</th>\n",
       "      <td>England</td>\n",
       "      <td>Tests</td>\n",
       "      <td>Women</td>\n",
       "      <td>15 to 19</td>\n",
       "      <td>415359.0</td>\n",
       "      <td>365619.0</td>\n",
       "      <td>328458.0</td>\n",
       "      <td>312368.0</td>\n",
       "      <td>311493.0</td>\n",
       "      <td>198,308</td>\n",
       "      <td>192,416</td>\n",
       "      <td>194795.0</td>\n",
       "      <td>193903.0</td>\n",
       "      <td>170331.0</td>\n",
       "      <td>-12.2</td>\n",
       "      <td>NaN</td>\n",
       "      <td>NaN</td>\n",
       "    </tr>\n",
       "    <tr>\n",
       "      <th>1</th>\n",
       "      <td>England</td>\n",
       "      <td>Tests</td>\n",
       "      <td>Women</td>\n",
       "      <td>20 to 24</td>\n",
       "      <td>669788.0</td>\n",
       "      <td>632606.0</td>\n",
       "      <td>599518.0</td>\n",
       "      <td>613386.0</td>\n",
       "      <td>633243.0</td>\n",
       "      <td>478,495</td>\n",
       "      <td>500,036</td>\n",
       "      <td>495316.0</td>\n",
       "      <td>479199.0</td>\n",
       "      <td>430964.0</td>\n",
       "      <td>-10.1</td>\n",
       "      <td>NaN</td>\n",
       "      <td>NaN</td>\n",
       "    </tr>\n",
       "    <tr>\n",
       "      <th>2</th>\n",
       "      <td>England</td>\n",
       "      <td>Tests</td>\n",
       "      <td>Men</td>\n",
       "      <td>15 to 19</td>\n",
       "      <td>147030.0</td>\n",
       "      <td>123265.0</td>\n",
       "      <td>107790.0</td>\n",
       "      <td>103493.0</td>\n",
       "      <td>103960.0</td>\n",
       "      <td>60,001</td>\n",
       "      <td>56,300</td>\n",
       "      <td>61138.0</td>\n",
       "      <td>61559.0</td>\n",
       "      <td>54074.0</td>\n",
       "      <td>-12.2</td>\n",
       "      <td>NaN</td>\n",
       "      <td>NaN</td>\n",
       "    </tr>\n",
       "    <tr>\n",
       "      <th>3</th>\n",
       "      <td>England</td>\n",
       "      <td>Tests</td>\n",
       "      <td>Men</td>\n",
       "      <td>20 to 24</td>\n",
       "      <td>299623.0</td>\n",
       "      <td>280108.0</td>\n",
       "      <td>263885.0</td>\n",
       "      <td>273243.0</td>\n",
       "      <td>279066.0</td>\n",
       "      <td>195,062</td>\n",
       "      <td>199,774</td>\n",
       "      <td>215446.0</td>\n",
       "      <td>213612.0</td>\n",
       "      <td>190062.0</td>\n",
       "      <td>-11.0</td>\n",
       "      <td>NaN</td>\n",
       "      <td>NaN</td>\n",
       "    </tr>\n",
       "    <tr>\n",
       "      <th>4</th>\n",
       "      <td>England</td>\n",
       "      <td>Tests</td>\n",
       "      <td>Total</td>\n",
       "      <td>15 to 19</td>\n",
       "      <td>569147.0</td>\n",
       "      <td>497193.0</td>\n",
       "      <td>442535.0</td>\n",
       "      <td>421986.0</td>\n",
       "      <td>422474.0</td>\n",
       "      <td>262,430</td>\n",
       "      <td>255,650</td>\n",
       "      <td>267251.0</td>\n",
       "      <td>265638.0</td>\n",
       "      <td>233780.0</td>\n",
       "      <td>-12.0</td>\n",
       "      <td>NaN</td>\n",
       "      <td>NaN</td>\n",
       "    </tr>\n",
       "    <tr>\n",
       "      <th>...</th>\n",
       "      <td>...</td>\n",
       "      <td>...</td>\n",
       "      <td>...</td>\n",
       "      <td>...</td>\n",
       "      <td>...</td>\n",
       "      <td>...</td>\n",
       "      <td>...</td>\n",
       "      <td>...</td>\n",
       "      <td>...</td>\n",
       "      <td>...</td>\n",
       "      <td>...</td>\n",
       "      <td>...</td>\n",
       "      <td>...</td>\n",
       "      <td>...</td>\n",
       "      <td>...</td>\n",
       "      <td>...</td>\n",
       "      <td>...</td>\n",
       "    </tr>\n",
       "    <tr>\n",
       "      <th>149</th>\n",
       "      <td>NaN</td>\n",
       "      <td>NaN</td>\n",
       "      <td>NaN</td>\n",
       "      <td>NaN</td>\n",
       "      <td>NaN</td>\n",
       "      <td>NaN</td>\n",
       "      <td>NaN</td>\n",
       "      <td>NaN</td>\n",
       "      <td>NaN</td>\n",
       "      <td>NaN</td>\n",
       "      <td>NaN</td>\n",
       "      <td>NaN</td>\n",
       "      <td>NaN</td>\n",
       "      <td>NaN</td>\n",
       "      <td>NaN</td>\n",
       "      <td>NaN</td>\n",
       "      <td>NaN</td>\n",
       "    </tr>\n",
       "    <tr>\n",
       "      <th>150</th>\n",
       "      <td>NaN</td>\n",
       "      <td>NaN</td>\n",
       "      <td>NaN</td>\n",
       "      <td>NaN</td>\n",
       "      <td>NaN</td>\n",
       "      <td>NaN</td>\n",
       "      <td>NaN</td>\n",
       "      <td>NaN</td>\n",
       "      <td>NaN</td>\n",
       "      <td>NaN</td>\n",
       "      <td>NaN</td>\n",
       "      <td>NaN</td>\n",
       "      <td>NaN</td>\n",
       "      <td>NaN</td>\n",
       "      <td>NaN</td>\n",
       "      <td>NaN</td>\n",
       "      <td>NaN</td>\n",
       "    </tr>\n",
       "    <tr>\n",
       "      <th>151</th>\n",
       "      <td>NaN</td>\n",
       "      <td>NaN</td>\n",
       "      <td>NaN</td>\n",
       "      <td>NaN</td>\n",
       "      <td>NaN</td>\n",
       "      <td>NaN</td>\n",
       "      <td>NaN</td>\n",
       "      <td>NaN</td>\n",
       "      <td>NaN</td>\n",
       "      <td>NaN</td>\n",
       "      <td>NaN</td>\n",
       "      <td>NaN</td>\n",
       "      <td>NaN</td>\n",
       "      <td>NaN</td>\n",
       "      <td>NaN</td>\n",
       "      <td>NaN</td>\n",
       "      <td>NaN</td>\n",
       "    </tr>\n",
       "    <tr>\n",
       "      <th>152</th>\n",
       "      <td>NaN</td>\n",
       "      <td>NaN</td>\n",
       "      <td>NaN</td>\n",
       "      <td>NaN</td>\n",
       "      <td>NaN</td>\n",
       "      <td>NaN</td>\n",
       "      <td>NaN</td>\n",
       "      <td>NaN</td>\n",
       "      <td>NaN</td>\n",
       "      <td>NaN</td>\n",
       "      <td>NaN</td>\n",
       "      <td>NaN</td>\n",
       "      <td>NaN</td>\n",
       "      <td>NaN</td>\n",
       "      <td>NaN</td>\n",
       "      <td>NaN</td>\n",
       "      <td>NaN</td>\n",
       "    </tr>\n",
       "    <tr>\n",
       "      <th>153</th>\n",
       "      <td>NaN</td>\n",
       "      <td>NaN</td>\n",
       "      <td>NaN</td>\n",
       "      <td>NaN</td>\n",
       "      <td>NaN</td>\n",
       "      <td>NaN</td>\n",
       "      <td>NaN</td>\n",
       "      <td>NaN</td>\n",
       "      <td>NaN</td>\n",
       "      <td>NaN</td>\n",
       "      <td>NaN</td>\n",
       "      <td>NaN</td>\n",
       "      <td>NaN</td>\n",
       "      <td>NaN</td>\n",
       "      <td>NaN</td>\n",
       "      <td>NaN</td>\n",
       "      <td>NaN</td>\n",
       "    </tr>\n",
       "  </tbody>\n",
       "</table>\n",
       "<p>154 rows × 17 columns</p>\n",
       "</div>"
      ],
      "text/plain": [
       "    Area of residence Tests or diagnoses Gender identity\\n[note 5]       Age  \\\n",
       "0             England             Tests                      Women  15 to 19   \n",
       "1             England             Tests                      Women  20 to 24   \n",
       "2             England             Tests                        Men  15 to 19   \n",
       "3             England             Tests                        Men  20 to 24   \n",
       "4             England             Tests                      Total  15 to 19   \n",
       "..                ...                ...                       ...       ...   \n",
       "149               NaN                NaN                       NaN       NaN   \n",
       "150               NaN                NaN                       NaN       NaN   \n",
       "151               NaN                NaN                       NaN       NaN   \n",
       "152               NaN                NaN                       NaN       NaN   \n",
       "153               NaN                NaN                       NaN       NaN   \n",
       "\n",
       "         2015      2016      2017      2018      2019 2020 \\n[note 10]  \\\n",
       "0    415359.0  365619.0  328458.0  312368.0  311493.0          198,308   \n",
       "1    669788.0  632606.0  599518.0  613386.0  633243.0          478,495   \n",
       "2    147030.0  123265.0  107790.0  103493.0  103960.0           60,001   \n",
       "3    299623.0  280108.0  263885.0  273243.0  279066.0          195,062   \n",
       "4    569147.0  497193.0  442535.0  421986.0  422474.0          262,430   \n",
       "..        ...       ...       ...       ...       ...              ...   \n",
       "149       NaN       NaN       NaN       NaN       NaN              NaN   \n",
       "150       NaN       NaN       NaN       NaN       NaN              NaN   \n",
       "151       NaN       NaN       NaN       NaN       NaN              NaN   \n",
       "152       NaN       NaN       NaN       NaN       NaN              NaN   \n",
       "153       NaN       NaN       NaN       NaN       NaN              NaN   \n",
       "\n",
       "    2021\\n[note 10]      2022      2023      2024  \\\n",
       "0           192,416  194795.0  193903.0  170331.0   \n",
       "1           500,036  495316.0  479199.0  430964.0   \n",
       "2            56,300   61138.0   61559.0   54074.0   \n",
       "3           199,774  215446.0  213612.0  190062.0   \n",
       "4           255,650  267251.0  265638.0  233780.0   \n",
       "..              ...       ...       ...       ...   \n",
       "149             NaN       NaN       NaN       NaN   \n",
       "150             NaN       NaN       NaN       NaN   \n",
       "151             NaN       NaN       NaN       NaN   \n",
       "152             NaN       NaN       NaN       NaN   \n",
       "153             NaN       NaN       NaN       NaN   \n",
       "\n",
       "    Percentage change\\n2023 to 2024  Unnamed: 15  Unnamed: 16  \n",
       "0                             -12.2          NaN          NaN  \n",
       "1                             -10.1          NaN          NaN  \n",
       "2                             -12.2          NaN          NaN  \n",
       "3                             -11.0          NaN          NaN  \n",
       "4                             -12.0          NaN          NaN  \n",
       "..                              ...          ...          ...  \n",
       "149                             NaN          NaN          NaN  \n",
       "150                             NaN          NaN          NaN  \n",
       "151                             NaN          NaN          NaN  \n",
       "152                             NaN          NaN          NaN  \n",
       "153                             NaN          NaN          NaN  \n",
       "\n",
       "[154 rows x 17 columns]"
      ]
     },
     "execution_count": 128,
     "metadata": {},
     "output_type": "execute_result"
    }
   ],
   "source": [
    "chlamydia_data_path = 'Raw_data/Chlamydia.csv' # Path to the chlamydia data CSV file\n",
    "chlamydia_df = pd.read_csv(chlamydia_data_path, thousands=',') # Load the chlamydia data into a DataFrame\n",
    "chlamydia_df # Display the first few rows of the chlamydia data"
   ]
  },
  {
   "cell_type": "code",
   "execution_count": 129,
   "id": "5ae164b3",
   "metadata": {},
   "outputs": [
    {
     "name": "stdout",
     "output_type": "stream",
     "text": [
      "/Users/kiaramartin/Documents/GitHub/Final_Project\n"
     ]
    }
   ],
   "source": [
    "# check the pathway \n",
    "import os\n",
    "print(os.getcwd())"
   ]
  },
  {
   "cell_type": "markdown",
   "id": "5d085b4f",
   "metadata": {},
   "source": [
    "\n",
    "## Reading and Indentifying data types\n",
    "\n",
    "Allows for visualisation of the imported datasets data types."
   ]
  },
  {
   "cell_type": "code",
   "execution_count": 130,
   "id": "1bf45caa",
   "metadata": {},
   "outputs": [
    {
     "name": "stdout",
     "output_type": "stream",
     "text": [
      "<class 'pandas.core.frame.DataFrame'>\n",
      "RangeIndex: 116 entries, 0 to 115\n",
      "Data columns (total 2 columns):\n",
      " #   Column  Non-Null Count  Dtype \n",
      "---  ------  --------------  ----- \n",
      " 0   year    116 non-null    int64 \n",
      " 1      ann  116 non-null    object\n",
      "dtypes: int64(1), object(1)\n",
      "memory usage: 1.9+ KB\n"
     ]
    },
    {
     "data": {
      "text/html": [
       "<div>\n",
       "<style scoped>\n",
       "    .dataframe tbody tr th:only-of-type {\n",
       "        vertical-align: middle;\n",
       "    }\n",
       "\n",
       "    .dataframe tbody tr th {\n",
       "        vertical-align: top;\n",
       "    }\n",
       "\n",
       "    .dataframe thead th {\n",
       "        text-align: right;\n",
       "    }\n",
       "</style>\n",
       "<table border=\"1\" class=\"dataframe\">\n",
       "  <thead>\n",
       "    <tr style=\"text-align: right;\">\n",
       "      <th></th>\n",
       "      <th>year</th>\n",
       "      <th>ann</th>\n",
       "    </tr>\n",
       "  </thead>\n",
       "  <tbody>\n",
       "    <tr>\n",
       "      <th>0</th>\n",
       "      <td>1910</td>\n",
       "      <td>1373.5</td>\n",
       "    </tr>\n",
       "    <tr>\n",
       "      <th>1</th>\n",
       "      <td>1911</td>\n",
       "      <td>1662.3</td>\n",
       "    </tr>\n",
       "    <tr>\n",
       "      <th>2</th>\n",
       "      <td>1912</td>\n",
       "      <td>1202.6</td>\n",
       "    </tr>\n",
       "    <tr>\n",
       "      <th>3</th>\n",
       "      <td>1913</td>\n",
       "      <td>1254.5</td>\n",
       "    </tr>\n",
       "    <tr>\n",
       "      <th>4</th>\n",
       "      <td>1914</td>\n",
       "      <td>1522.3</td>\n",
       "    </tr>\n",
       "  </tbody>\n",
       "</table>\n",
       "</div>"
      ],
      "text/plain": [
       "   year       ann\n",
       "0    1910  1373.5\n",
       "1    1911  1662.3\n",
       "2    1912  1202.6\n",
       "3    1913  1254.5\n",
       "4    1914  1522.3"
      ]
     },
     "execution_count": 130,
     "metadata": {},
     "output_type": "execute_result"
    }
   ],
   "source": [
    "sunshine_df.info() # Display information about the Sunshine DataFrame, including data types and non-null counts\n",
    "sunshine_df.describe() # Display summary statistics for numerical columns in the Sunshine DataFrame\n",
    "sunshine_df.head() # Display the first few rows of the Sunshine DataFrame"
   ]
  },
  {
   "cell_type": "code",
   "execution_count": 131,
   "id": "7009b4d5",
   "metadata": {},
   "outputs": [
    {
     "name": "stdout",
     "output_type": "stream",
     "text": [
      "<class 'pandas.core.frame.DataFrame'>\n",
      "RangeIndex: 190 entries, 0 to 189\n",
      "Data columns (total 2 columns):\n",
      " #   Column  Non-Null Count  Dtype \n",
      "---  ------  --------------  ----- \n",
      " 0   year    190 non-null    int64 \n",
      " 1      ann  190 non-null    object\n",
      "dtypes: int64(1), object(1)\n",
      "memory usage: 3.1+ KB\n"
     ]
    },
    {
     "data": {
      "text/html": [
       "<div>\n",
       "<style scoped>\n",
       "    .dataframe tbody tr th:only-of-type {\n",
       "        vertical-align: middle;\n",
       "    }\n",
       "\n",
       "    .dataframe tbody tr th {\n",
       "        vertical-align: top;\n",
       "    }\n",
       "\n",
       "    .dataframe thead th {\n",
       "        text-align: right;\n",
       "    }\n",
       "</style>\n",
       "<table border=\"1\" class=\"dataframe\">\n",
       "  <thead>\n",
       "    <tr style=\"text-align: right;\">\n",
       "      <th></th>\n",
       "      <th>year</th>\n",
       "      <th>ann</th>\n",
       "    </tr>\n",
       "  </thead>\n",
       "  <tbody>\n",
       "    <tr>\n",
       "      <th>0</th>\n",
       "      <td>1836</td>\n",
       "      <td>885.2</td>\n",
       "    </tr>\n",
       "    <tr>\n",
       "      <th>1</th>\n",
       "      <td>1837</td>\n",
       "      <td>746.5</td>\n",
       "    </tr>\n",
       "    <tr>\n",
       "      <th>2</th>\n",
       "      <td>1838</td>\n",
       "      <td>757.1</td>\n",
       "    </tr>\n",
       "    <tr>\n",
       "      <th>3</th>\n",
       "      <td>1839</td>\n",
       "      <td>918.1</td>\n",
       "    </tr>\n",
       "    <tr>\n",
       "      <th>4</th>\n",
       "      <td>1840</td>\n",
       "      <td>688.7</td>\n",
       "    </tr>\n",
       "  </tbody>\n",
       "</table>\n",
       "</div>"
      ],
      "text/plain": [
       "   year      ann\n",
       "0    1836  885.2\n",
       "1    1837  746.5\n",
       "2    1838  757.1\n",
       "3    1839  918.1\n",
       "4    1840  688.7"
      ]
     },
     "execution_count": 131,
     "metadata": {},
     "output_type": "execute_result"
    }
   ],
   "source": [
    "rainfall_df.info()  \n",
    "rainfall_df.describe() \n",
    "rainfall_df.head() "
   ]
  },
  {
   "cell_type": "code",
   "execution_count": 132,
   "id": "4f4cd9e0",
   "metadata": {},
   "outputs": [
    {
     "name": "stdout",
     "output_type": "stream",
     "text": [
      "<class 'pandas.core.frame.DataFrame'>\n",
      "RangeIndex: 154 entries, 0 to 153\n",
      "Data columns (total 17 columns):\n",
      " #   Column                          Non-Null Count  Dtype  \n",
      "---  ------                          --------------  -----  \n",
      " 0   Area of residence               130 non-null    object \n",
      " 1   Tests or diagnoses              130 non-null    object \n",
      " 2   Gender identity\n",
      "[note 5]        130 non-null    object \n",
      " 3   Age                             130 non-null    object \n",
      " 4   2015                            130 non-null    float64\n",
      " 5   2016                            130 non-null    float64\n",
      " 6   2017                            130 non-null    float64\n",
      " 7   2018                            130 non-null    float64\n",
      " 8   2019                            130 non-null    float64\n",
      " 9   2020 \n",
      "[note 10]                 130 non-null    object \n",
      " 10  2021\n",
      "[note 10]                  130 non-null    object \n",
      " 11  2022                            130 non-null    float64\n",
      " 12  2023                            130 non-null    float64\n",
      " 13  2024                            130 non-null    float64\n",
      " 14  Percentage change\n",
      "2023 to 2024  130 non-null    object \n",
      " 15  Unnamed: 15                     0 non-null      float64\n",
      " 16  Unnamed: 16                     0 non-null      float64\n",
      "dtypes: float64(10), object(7)\n",
      "memory usage: 20.6+ KB\n"
     ]
    },
    {
     "data": {
      "text/html": [
       "<div>\n",
       "<style scoped>\n",
       "    .dataframe tbody tr th:only-of-type {\n",
       "        vertical-align: middle;\n",
       "    }\n",
       "\n",
       "    .dataframe tbody tr th {\n",
       "        vertical-align: top;\n",
       "    }\n",
       "\n",
       "    .dataframe thead th {\n",
       "        text-align: right;\n",
       "    }\n",
       "</style>\n",
       "<table border=\"1\" class=\"dataframe\">\n",
       "  <thead>\n",
       "    <tr style=\"text-align: right;\">\n",
       "      <th></th>\n",
       "      <th>Area of residence</th>\n",
       "      <th>Tests or diagnoses</th>\n",
       "      <th>Gender identity\\n[note 5]</th>\n",
       "      <th>Age</th>\n",
       "      <th>2015</th>\n",
       "      <th>2016</th>\n",
       "      <th>2017</th>\n",
       "      <th>2018</th>\n",
       "      <th>2019</th>\n",
       "      <th>2020 \\n[note 10]</th>\n",
       "      <th>2021\\n[note 10]</th>\n",
       "      <th>2022</th>\n",
       "      <th>2023</th>\n",
       "      <th>2024</th>\n",
       "      <th>Percentage change\\n2023 to 2024</th>\n",
       "      <th>Unnamed: 15</th>\n",
       "      <th>Unnamed: 16</th>\n",
       "    </tr>\n",
       "  </thead>\n",
       "  <tbody>\n",
       "    <tr>\n",
       "      <th>0</th>\n",
       "      <td>England</td>\n",
       "      <td>Tests</td>\n",
       "      <td>Women</td>\n",
       "      <td>15 to 19</td>\n",
       "      <td>415359.0</td>\n",
       "      <td>365619.0</td>\n",
       "      <td>328458.0</td>\n",
       "      <td>312368.0</td>\n",
       "      <td>311493.0</td>\n",
       "      <td>198,308</td>\n",
       "      <td>192,416</td>\n",
       "      <td>194795.0</td>\n",
       "      <td>193903.0</td>\n",
       "      <td>170331.0</td>\n",
       "      <td>-12.2</td>\n",
       "      <td>NaN</td>\n",
       "      <td>NaN</td>\n",
       "    </tr>\n",
       "    <tr>\n",
       "      <th>1</th>\n",
       "      <td>England</td>\n",
       "      <td>Tests</td>\n",
       "      <td>Women</td>\n",
       "      <td>20 to 24</td>\n",
       "      <td>669788.0</td>\n",
       "      <td>632606.0</td>\n",
       "      <td>599518.0</td>\n",
       "      <td>613386.0</td>\n",
       "      <td>633243.0</td>\n",
       "      <td>478,495</td>\n",
       "      <td>500,036</td>\n",
       "      <td>495316.0</td>\n",
       "      <td>479199.0</td>\n",
       "      <td>430964.0</td>\n",
       "      <td>-10.1</td>\n",
       "      <td>NaN</td>\n",
       "      <td>NaN</td>\n",
       "    </tr>\n",
       "    <tr>\n",
       "      <th>2</th>\n",
       "      <td>England</td>\n",
       "      <td>Tests</td>\n",
       "      <td>Men</td>\n",
       "      <td>15 to 19</td>\n",
       "      <td>147030.0</td>\n",
       "      <td>123265.0</td>\n",
       "      <td>107790.0</td>\n",
       "      <td>103493.0</td>\n",
       "      <td>103960.0</td>\n",
       "      <td>60,001</td>\n",
       "      <td>56,300</td>\n",
       "      <td>61138.0</td>\n",
       "      <td>61559.0</td>\n",
       "      <td>54074.0</td>\n",
       "      <td>-12.2</td>\n",
       "      <td>NaN</td>\n",
       "      <td>NaN</td>\n",
       "    </tr>\n",
       "    <tr>\n",
       "      <th>3</th>\n",
       "      <td>England</td>\n",
       "      <td>Tests</td>\n",
       "      <td>Men</td>\n",
       "      <td>20 to 24</td>\n",
       "      <td>299623.0</td>\n",
       "      <td>280108.0</td>\n",
       "      <td>263885.0</td>\n",
       "      <td>273243.0</td>\n",
       "      <td>279066.0</td>\n",
       "      <td>195,062</td>\n",
       "      <td>199,774</td>\n",
       "      <td>215446.0</td>\n",
       "      <td>213612.0</td>\n",
       "      <td>190062.0</td>\n",
       "      <td>-11.0</td>\n",
       "      <td>NaN</td>\n",
       "      <td>NaN</td>\n",
       "    </tr>\n",
       "    <tr>\n",
       "      <th>4</th>\n",
       "      <td>England</td>\n",
       "      <td>Tests</td>\n",
       "      <td>Total</td>\n",
       "      <td>15 to 19</td>\n",
       "      <td>569147.0</td>\n",
       "      <td>497193.0</td>\n",
       "      <td>442535.0</td>\n",
       "      <td>421986.0</td>\n",
       "      <td>422474.0</td>\n",
       "      <td>262,430</td>\n",
       "      <td>255,650</td>\n",
       "      <td>267251.0</td>\n",
       "      <td>265638.0</td>\n",
       "      <td>233780.0</td>\n",
       "      <td>-12.0</td>\n",
       "      <td>NaN</td>\n",
       "      <td>NaN</td>\n",
       "    </tr>\n",
       "  </tbody>\n",
       "</table>\n",
       "</div>"
      ],
      "text/plain": [
       "  Area of residence Tests or diagnoses Gender identity\\n[note 5]       Age  \\\n",
       "0           England             Tests                      Women  15 to 19   \n",
       "1           England             Tests                      Women  20 to 24   \n",
       "2           England             Tests                        Men  15 to 19   \n",
       "3           England             Tests                        Men  20 to 24   \n",
       "4           England             Tests                      Total  15 to 19   \n",
       "\n",
       "       2015      2016      2017      2018      2019 2020 \\n[note 10]  \\\n",
       "0  415359.0  365619.0  328458.0  312368.0  311493.0          198,308   \n",
       "1  669788.0  632606.0  599518.0  613386.0  633243.0          478,495   \n",
       "2  147030.0  123265.0  107790.0  103493.0  103960.0           60,001   \n",
       "3  299623.0  280108.0  263885.0  273243.0  279066.0          195,062   \n",
       "4  569147.0  497193.0  442535.0  421986.0  422474.0          262,430   \n",
       "\n",
       "  2021\\n[note 10]      2022      2023      2024  \\\n",
       "0         192,416  194795.0  193903.0  170331.0   \n",
       "1         500,036  495316.0  479199.0  430964.0   \n",
       "2          56,300   61138.0   61559.0   54074.0   \n",
       "3         199,774  215446.0  213612.0  190062.0   \n",
       "4         255,650  267251.0  265638.0  233780.0   \n",
       "\n",
       "  Percentage change\\n2023 to 2024  Unnamed: 15  Unnamed: 16  \n",
       "0                           -12.2          NaN          NaN  \n",
       "1                           -10.1          NaN          NaN  \n",
       "2                           -12.2          NaN          NaN  \n",
       "3                           -11.0          NaN          NaN  \n",
       "4                           -12.0          NaN          NaN  "
      ]
     },
     "execution_count": 132,
     "metadata": {},
     "output_type": "execute_result"
    }
   ],
   "source": [
    "chlamydia_df.info()\n",
    "chlamydia_df.describe() \n",
    "chlamydia_df.head() "
   ]
  },
  {
   "cell_type": "markdown",
   "id": "d47dad8f",
   "metadata": {},
   "source": [
    "\n",
    "## Data Cleaning of Sunshine Data\n",
    "\n",
    "I will identify and rename the headings for clarity. Then I will convert the columns to be the correct type. I will ensure the 'Year' column is displayed correctly. I will drop rows with missing values followed by rows outside the required timeframe of 2015 - 2024. \n"
   ]
  },
  {
   "cell_type": "code",
   "execution_count": 133,
   "id": "c4810356",
   "metadata": {},
   "outputs": [
    {
     "name": "stdout",
     "output_type": "stream",
     "text": [
      "Index(['year  ', '   ann'], dtype='object')\n"
     ]
    }
   ],
   "source": [
    "print(sunshine_df.columns)"
   ]
  },
  {
   "cell_type": "code",
   "execution_count": 134,
   "id": "5c0ba66f",
   "metadata": {},
   "outputs": [
    {
     "data": {
      "text/html": [
       "<div>\n",
       "<style scoped>\n",
       "    .dataframe tbody tr th:only-of-type {\n",
       "        vertical-align: middle;\n",
       "    }\n",
       "\n",
       "    .dataframe tbody tr th {\n",
       "        vertical-align: top;\n",
       "    }\n",
       "\n",
       "    .dataframe thead th {\n",
       "        text-align: right;\n",
       "    }\n",
       "</style>\n",
       "<table border=\"1\" class=\"dataframe\">\n",
       "  <thead>\n",
       "    <tr style=\"text-align: right;\">\n",
       "      <th></th>\n",
       "      <th>Year</th>\n",
       "      <th>Annual Sunshine Hours</th>\n",
       "    </tr>\n",
       "  </thead>\n",
       "  <tbody>\n",
       "    <tr>\n",
       "      <th>0</th>\n",
       "      <td>1910</td>\n",
       "      <td>1373.5</td>\n",
       "    </tr>\n",
       "    <tr>\n",
       "      <th>1</th>\n",
       "      <td>1911</td>\n",
       "      <td>1662.3</td>\n",
       "    </tr>\n",
       "    <tr>\n",
       "      <th>2</th>\n",
       "      <td>1912</td>\n",
       "      <td>1202.6</td>\n",
       "    </tr>\n",
       "    <tr>\n",
       "      <th>3</th>\n",
       "      <td>1913</td>\n",
       "      <td>1254.5</td>\n",
       "    </tr>\n",
       "    <tr>\n",
       "      <th>4</th>\n",
       "      <td>1914</td>\n",
       "      <td>1522.3</td>\n",
       "    </tr>\n",
       "  </tbody>\n",
       "</table>\n",
       "</div>"
      ],
      "text/plain": [
       "   Year Annual Sunshine Hours\n",
       "0  1910                1373.5\n",
       "1  1911                1662.3\n",
       "2  1912                1202.6\n",
       "3  1913                1254.5\n",
       "4  1914                1522.3"
      ]
     },
     "execution_count": 134,
     "metadata": {},
     "output_type": "execute_result"
    }
   ],
   "source": [
    "sunshine_df.rename(columns={'year  ': 'Year', '   ann': 'Annual Sunshine Hours'}, inplace=True) # Rename columns for clarity\n",
    "sunshine_df.head()  # Display the first few rows of the updated Sunshine DataFrame"
   ]
  },
  {
   "cell_type": "code",
   "execution_count": 135,
   "id": "5ab3cd77",
   "metadata": {},
   "outputs": [
    {
     "name": "stdout",
     "output_type": "stream",
     "text": [
      "<class 'pandas.core.frame.DataFrame'>\n",
      "RangeIndex: 116 entries, 0 to 115\n",
      "Data columns (total 2 columns):\n",
      " #   Column                 Non-Null Count  Dtype         \n",
      "---  ------                 --------------  -----         \n",
      " 0   Year                   116 non-null    datetime64[ns]\n",
      " 1   Annual Sunshine Hours  116 non-null    object        \n",
      "dtypes: datetime64[ns](1), object(1)\n",
      "memory usage: 1.9+ KB\n"
     ]
    }
   ],
   "source": [
    "sunshine_df['Year'] = pd.to_datetime(sunshine_df['Year'], format='%Y') # Convert 'Year' column to datetime format\n",
    "sunshine_df['Annual Sunshine Hours'].astype, (float) # Ensure 'Annual Sunshine Hours' is of type float\n",
    "sunshine_df.info() # Display summary statistics for numerical columns in the updated Sunshine DataFrame"
   ]
  },
  {
   "cell_type": "code",
   "execution_count": 136,
   "id": "1707781d",
   "metadata": {},
   "outputs": [
    {
     "data": {
      "text/html": [
       "<div>\n",
       "<style scoped>\n",
       "    .dataframe tbody tr th:only-of-type {\n",
       "        vertical-align: middle;\n",
       "    }\n",
       "\n",
       "    .dataframe tbody tr th {\n",
       "        vertical-align: top;\n",
       "    }\n",
       "\n",
       "    .dataframe thead th {\n",
       "        text-align: right;\n",
       "    }\n",
       "</style>\n",
       "<table border=\"1\" class=\"dataframe\">\n",
       "  <thead>\n",
       "    <tr style=\"text-align: right;\">\n",
       "      <th></th>\n",
       "      <th>Year</th>\n",
       "      <th>Annual Sunshine Hours</th>\n",
       "    </tr>\n",
       "  </thead>\n",
       "  <tbody>\n",
       "    <tr>\n",
       "      <th>105</th>\n",
       "      <td>2015-01-01</td>\n",
       "      <td>1579.8</td>\n",
       "    </tr>\n",
       "    <tr>\n",
       "      <th>106</th>\n",
       "      <td>2016-01-01</td>\n",
       "      <td>1551.1</td>\n",
       "    </tr>\n",
       "    <tr>\n",
       "      <th>107</th>\n",
       "      <td>2017-01-01</td>\n",
       "      <td>1508.7</td>\n",
       "    </tr>\n",
       "    <tr>\n",
       "      <th>108</th>\n",
       "      <td>2018-01-01</td>\n",
       "      <td>1691.9</td>\n",
       "    </tr>\n",
       "    <tr>\n",
       "      <th>109</th>\n",
       "      <td>2019-01-01</td>\n",
       "      <td>1615.5</td>\n",
       "    </tr>\n",
       "    <tr>\n",
       "      <th>110</th>\n",
       "      <td>2020-01-01</td>\n",
       "      <td>1676.5</td>\n",
       "    </tr>\n",
       "    <tr>\n",
       "      <th>111</th>\n",
       "      <td>2021-01-01</td>\n",
       "      <td>1486.9</td>\n",
       "    </tr>\n",
       "    <tr>\n",
       "      <th>112</th>\n",
       "      <td>2022-01-01</td>\n",
       "      <td>1741.4</td>\n",
       "    </tr>\n",
       "    <tr>\n",
       "      <th>113</th>\n",
       "      <td>2023-01-01</td>\n",
       "      <td>1559.3</td>\n",
       "    </tr>\n",
       "    <tr>\n",
       "      <th>114</th>\n",
       "      <td>2024-01-01</td>\n",
       "      <td>1394.6</td>\n",
       "    </tr>\n",
       "  </tbody>\n",
       "</table>\n",
       "</div>"
      ],
      "text/plain": [
       "          Year Annual Sunshine Hours\n",
       "105 2015-01-01                1579.8\n",
       "106 2016-01-01                1551.1\n",
       "107 2017-01-01                1508.7\n",
       "108 2018-01-01                1691.9\n",
       "109 2019-01-01                1615.5\n",
       "110 2020-01-01                1676.5\n",
       "111 2021-01-01                1486.9\n",
       "112 2022-01-01                1741.4\n",
       "113 2023-01-01                1559.3\n",
       "114 2024-01-01                1394.6"
      ]
     },
     "execution_count": 136,
     "metadata": {},
     "output_type": "execute_result"
    }
   ],
   "source": [
    "sunshine_df.dropna(inplace=True) # Drop rows with missing values in the Sunshine DataFrame\n",
    "\n",
    "# Keep only rows where the year is between 1910 and 2014 (inclusive)\n",
    "sunshine_df = sunshine_df[(sunshine_df['Year'].dt.year >= 2015) & (sunshine_df['Year'].dt.year <= 2024)]\n",
    "sunshine_df"
   ]
  },
  {
   "cell_type": "code",
   "execution_count": 137,
   "id": "b3c69348",
   "metadata": {},
   "outputs": [
    {
     "name": "stderr",
     "output_type": "stream",
     "text": [
      "/var/folders/zh/7q9zzj496zl6c_xx_q5_21lm0000gn/T/ipykernel_52654/3869068151.py:3: SettingWithCopyWarning:\n",
      "\n",
      "\n",
      "A value is trying to be set on a copy of a slice from a DataFrame.\n",
      "Try using .loc[row_indexer,col_indexer] = value instead\n",
      "\n",
      "See the caveats in the documentation: https://pandas.pydata.org/pandas-docs/stable/user_guide/indexing.html#returning-a-view-versus-a-copy\n",
      "\n"
     ]
    }
   ],
   "source": [
    "# Need to convert the 'Year' column to display the year only\n",
    "\n",
    "sunshine_df['Year'] = sunshine_df['Year'].dt.year\n"
   ]
  },
  {
   "cell_type": "code",
   "execution_count": 138,
   "id": "14864ebd",
   "metadata": {},
   "outputs": [
    {
     "data": {
      "text/html": [
       "<div>\n",
       "<style scoped>\n",
       "    .dataframe tbody tr th:only-of-type {\n",
       "        vertical-align: middle;\n",
       "    }\n",
       "\n",
       "    .dataframe tbody tr th {\n",
       "        vertical-align: top;\n",
       "    }\n",
       "\n",
       "    .dataframe thead th {\n",
       "        text-align: right;\n",
       "    }\n",
       "</style>\n",
       "<table border=\"1\" class=\"dataframe\">\n",
       "  <thead>\n",
       "    <tr style=\"text-align: right;\">\n",
       "      <th></th>\n",
       "      <th>Year</th>\n",
       "      <th>Annual Sunshine Hours</th>\n",
       "    </tr>\n",
       "  </thead>\n",
       "  <tbody>\n",
       "    <tr>\n",
       "      <th>105</th>\n",
       "      <td>2015</td>\n",
       "      <td>1579.8</td>\n",
       "    </tr>\n",
       "    <tr>\n",
       "      <th>106</th>\n",
       "      <td>2016</td>\n",
       "      <td>1551.1</td>\n",
       "    </tr>\n",
       "    <tr>\n",
       "      <th>107</th>\n",
       "      <td>2017</td>\n",
       "      <td>1508.7</td>\n",
       "    </tr>\n",
       "    <tr>\n",
       "      <th>108</th>\n",
       "      <td>2018</td>\n",
       "      <td>1691.9</td>\n",
       "    </tr>\n",
       "    <tr>\n",
       "      <th>109</th>\n",
       "      <td>2019</td>\n",
       "      <td>1615.5</td>\n",
       "    </tr>\n",
       "    <tr>\n",
       "      <th>110</th>\n",
       "      <td>2020</td>\n",
       "      <td>1676.5</td>\n",
       "    </tr>\n",
       "    <tr>\n",
       "      <th>111</th>\n",
       "      <td>2021</td>\n",
       "      <td>1486.9</td>\n",
       "    </tr>\n",
       "    <tr>\n",
       "      <th>112</th>\n",
       "      <td>2022</td>\n",
       "      <td>1741.4</td>\n",
       "    </tr>\n",
       "    <tr>\n",
       "      <th>113</th>\n",
       "      <td>2023</td>\n",
       "      <td>1559.3</td>\n",
       "    </tr>\n",
       "    <tr>\n",
       "      <th>114</th>\n",
       "      <td>2024</td>\n",
       "      <td>1394.6</td>\n",
       "    </tr>\n",
       "  </tbody>\n",
       "</table>\n",
       "</div>"
      ],
      "text/plain": [
       "     Year Annual Sunshine Hours\n",
       "105  2015                1579.8\n",
       "106  2016                1551.1\n",
       "107  2017                1508.7\n",
       "108  2018                1691.9\n",
       "109  2019                1615.5\n",
       "110  2020                1676.5\n",
       "111  2021                1486.9\n",
       "112  2022                1741.4\n",
       "113  2023                1559.3\n",
       "114  2024                1394.6"
      ]
     },
     "execution_count": 138,
     "metadata": {},
     "output_type": "execute_result"
    }
   ],
   "source": [
    "sunshine_df # Display the first few rows of the final Sunshine DataFrame after cleaning and formatting"
   ]
  },
  {
   "cell_type": "markdown",
   "id": "701d9ae2",
   "metadata": {},
   "source": [
    "\n",
    "### Reading and Indentifying Sunshine Data Type to confirm cleaning is complete\n"
   ]
  },
  {
   "cell_type": "code",
   "execution_count": 139,
   "id": "fba62ea2",
   "metadata": {},
   "outputs": [
    {
     "name": "stdout",
     "output_type": "stream",
     "text": [
      "<class 'pandas.core.frame.DataFrame'>\n",
      "Index: 10 entries, 105 to 114\n",
      "Data columns (total 2 columns):\n",
      " #   Column                 Non-Null Count  Dtype \n",
      "---  ------                 --------------  ----- \n",
      " 0   Year                   10 non-null     int32 \n",
      " 1   Annual Sunshine Hours  10 non-null     object\n",
      "dtypes: int32(1), object(1)\n",
      "memory usage: 200.0+ bytes\n"
     ]
    },
    {
     "data": {
      "text/html": [
       "<div>\n",
       "<style scoped>\n",
       "    .dataframe tbody tr th:only-of-type {\n",
       "        vertical-align: middle;\n",
       "    }\n",
       "\n",
       "    .dataframe tbody tr th {\n",
       "        vertical-align: top;\n",
       "    }\n",
       "\n",
       "    .dataframe thead th {\n",
       "        text-align: right;\n",
       "    }\n",
       "</style>\n",
       "<table border=\"1\" class=\"dataframe\">\n",
       "  <thead>\n",
       "    <tr style=\"text-align: right;\">\n",
       "      <th></th>\n",
       "      <th>Year</th>\n",
       "      <th>Annual Sunshine Hours</th>\n",
       "    </tr>\n",
       "  </thead>\n",
       "  <tbody>\n",
       "    <tr>\n",
       "      <th>105</th>\n",
       "      <td>2015</td>\n",
       "      <td>1579.8</td>\n",
       "    </tr>\n",
       "    <tr>\n",
       "      <th>106</th>\n",
       "      <td>2016</td>\n",
       "      <td>1551.1</td>\n",
       "    </tr>\n",
       "    <tr>\n",
       "      <th>107</th>\n",
       "      <td>2017</td>\n",
       "      <td>1508.7</td>\n",
       "    </tr>\n",
       "    <tr>\n",
       "      <th>108</th>\n",
       "      <td>2018</td>\n",
       "      <td>1691.9</td>\n",
       "    </tr>\n",
       "    <tr>\n",
       "      <th>109</th>\n",
       "      <td>2019</td>\n",
       "      <td>1615.5</td>\n",
       "    </tr>\n",
       "  </tbody>\n",
       "</table>\n",
       "</div>"
      ],
      "text/plain": [
       "     Year Annual Sunshine Hours\n",
       "105  2015                1579.8\n",
       "106  2016                1551.1\n",
       "107  2017                1508.7\n",
       "108  2018                1691.9\n",
       "109  2019                1615.5"
      ]
     },
     "execution_count": 139,
     "metadata": {},
     "output_type": "execute_result"
    }
   ],
   "source": [
    "sunshine_df.info()\n",
    "sunshine_df.describe() \n",
    "sunshine_df.head() "
   ]
  },
  {
   "cell_type": "code",
   "execution_count": 140,
   "id": "c3f0f986",
   "metadata": {},
   "outputs": [
    {
     "name": "stdout",
     "output_type": "stream",
     "text": [
      "<class 'pandas.core.frame.DataFrame'>\n",
      "Index: 10 entries, 105 to 114\n",
      "Data columns (total 2 columns):\n",
      " #   Column                 Non-Null Count  Dtype  \n",
      "---  ------                 --------------  -----  \n",
      " 0   Year                   10 non-null     int32  \n",
      " 1   Annual Sunshine Hours  10 non-null     float64\n",
      "dtypes: float64(1), int32(1)\n",
      "memory usage: 200.0 bytes\n"
     ]
    },
    {
     "name": "stderr",
     "output_type": "stream",
     "text": [
      "/var/folders/zh/7q9zzj496zl6c_xx_q5_21lm0000gn/T/ipykernel_52654/1665512389.py:3: SettingWithCopyWarning:\n",
      "\n",
      "\n",
      "A value is trying to be set on a copy of a slice from a DataFrame.\n",
      "Try using .loc[row_indexer,col_indexer] = value instead\n",
      "\n",
      "See the caveats in the documentation: https://pandas.pydata.org/pandas-docs/stable/user_guide/indexing.html#returning-a-view-versus-a-copy\n",
      "\n"
     ]
    }
   ],
   "source": [
    "# Ensure 'Annual Sunshine Hours' is of type float, previously it was not converted correctly\n",
    "\n",
    "sunshine_df['Annual Sunshine Hours'] = sunshine_df['Annual Sunshine Hours'].astype(float) # Convert 'Annual Sunshine Hours' to float type\n",
    "sunshine_df.info() "
   ]
  },
  {
   "cell_type": "code",
   "execution_count": 141,
   "id": "11c043af",
   "metadata": {},
   "outputs": [],
   "source": [
    "# Data Cleaning and Formatting for Sunshine Dataset is Complete"
   ]
  },
  {
   "cell_type": "markdown",
   "id": "34cffb4a",
   "metadata": {},
   "source": [
    "\n",
    "## Data Cleaning of Rainfall Data\n",
    "\n",
    "I will identify and rename the headings for clarity. Then I will convert the columns to be the correct type. I will ensure the 'Year' column is displayed correctly. I will drop rows with missing values followed by rows outside the required timeframe of 2015 - 2024. "
   ]
  },
  {
   "cell_type": "code",
   "execution_count": 142,
   "id": "79cedb0c",
   "metadata": {},
   "outputs": [
    {
     "name": "stdout",
     "output_type": "stream",
     "text": [
      "Index(['year  ', '   ann'], dtype='object')\n"
     ]
    }
   ],
   "source": [
    "print(rainfall_df.columns)"
   ]
  },
  {
   "cell_type": "code",
   "execution_count": 143,
   "id": "40d3d5d8",
   "metadata": {},
   "outputs": [
    {
     "data": {
      "text/html": [
       "<div>\n",
       "<style scoped>\n",
       "    .dataframe tbody tr th:only-of-type {\n",
       "        vertical-align: middle;\n",
       "    }\n",
       "\n",
       "    .dataframe tbody tr th {\n",
       "        vertical-align: top;\n",
       "    }\n",
       "\n",
       "    .dataframe thead th {\n",
       "        text-align: right;\n",
       "    }\n",
       "</style>\n",
       "<table border=\"1\" class=\"dataframe\">\n",
       "  <thead>\n",
       "    <tr style=\"text-align: right;\">\n",
       "      <th></th>\n",
       "      <th>Year</th>\n",
       "      <th>Annual Rainfall (mm)</th>\n",
       "    </tr>\n",
       "  </thead>\n",
       "  <tbody>\n",
       "    <tr>\n",
       "      <th>0</th>\n",
       "      <td>1836</td>\n",
       "      <td>885.2</td>\n",
       "    </tr>\n",
       "    <tr>\n",
       "      <th>1</th>\n",
       "      <td>1837</td>\n",
       "      <td>746.5</td>\n",
       "    </tr>\n",
       "    <tr>\n",
       "      <th>2</th>\n",
       "      <td>1838</td>\n",
       "      <td>757.1</td>\n",
       "    </tr>\n",
       "    <tr>\n",
       "      <th>3</th>\n",
       "      <td>1839</td>\n",
       "      <td>918.1</td>\n",
       "    </tr>\n",
       "    <tr>\n",
       "      <th>4</th>\n",
       "      <td>1840</td>\n",
       "      <td>688.7</td>\n",
       "    </tr>\n",
       "  </tbody>\n",
       "</table>\n",
       "</div>"
      ],
      "text/plain": [
       "   Year Annual Rainfall (mm)\n",
       "0  1836                885.2\n",
       "1  1837                746.5\n",
       "2  1838                757.1\n",
       "3  1839                918.1\n",
       "4  1840                688.7"
      ]
     },
     "execution_count": 143,
     "metadata": {},
     "output_type": "execute_result"
    }
   ],
   "source": [
    "rainfall_df.rename(columns={'year  ': 'Year', '   ann': 'Annual Rainfall (mm)'}, inplace=True) # Rename columns for clarity\n",
    "rainfall_df.head()  "
   ]
  },
  {
   "cell_type": "code",
   "execution_count": 144,
   "id": "5d1ac67c",
   "metadata": {},
   "outputs": [
    {
     "data": {
      "text/html": [
       "<div>\n",
       "<style scoped>\n",
       "    .dataframe tbody tr th:only-of-type {\n",
       "        vertical-align: middle;\n",
       "    }\n",
       "\n",
       "    .dataframe tbody tr th {\n",
       "        vertical-align: top;\n",
       "    }\n",
       "\n",
       "    .dataframe thead th {\n",
       "        text-align: right;\n",
       "    }\n",
       "</style>\n",
       "<table border=\"1\" class=\"dataframe\">\n",
       "  <thead>\n",
       "    <tr style=\"text-align: right;\">\n",
       "      <th></th>\n",
       "      <th>Year</th>\n",
       "      <th>Annual Rainfall (mm)</th>\n",
       "    </tr>\n",
       "  </thead>\n",
       "  <tbody>\n",
       "    <tr>\n",
       "      <th>0</th>\n",
       "      <td>1836</td>\n",
       "      <td>885.2</td>\n",
       "    </tr>\n",
       "    <tr>\n",
       "      <th>1</th>\n",
       "      <td>1837</td>\n",
       "      <td>746.5</td>\n",
       "    </tr>\n",
       "    <tr>\n",
       "      <th>2</th>\n",
       "      <td>1838</td>\n",
       "      <td>757.1</td>\n",
       "    </tr>\n",
       "    <tr>\n",
       "      <th>3</th>\n",
       "      <td>1839</td>\n",
       "      <td>918.1</td>\n",
       "    </tr>\n",
       "    <tr>\n",
       "      <th>4</th>\n",
       "      <td>1840</td>\n",
       "      <td>688.7</td>\n",
       "    </tr>\n",
       "    <tr>\n",
       "      <th>...</th>\n",
       "      <td>...</td>\n",
       "      <td>...</td>\n",
       "    </tr>\n",
       "    <tr>\n",
       "      <th>185</th>\n",
       "      <td>2021</td>\n",
       "      <td>877.3</td>\n",
       "    </tr>\n",
       "    <tr>\n",
       "      <th>186</th>\n",
       "      <td>2022</td>\n",
       "      <td>778.8</td>\n",
       "    </tr>\n",
       "    <tr>\n",
       "      <th>187</th>\n",
       "      <td>2023</td>\n",
       "      <td>1066.2</td>\n",
       "    </tr>\n",
       "    <tr>\n",
       "      <th>188</th>\n",
       "      <td>2024</td>\n",
       "      <td>1020.1</td>\n",
       "    </tr>\n",
       "    <tr>\n",
       "      <th>189</th>\n",
       "      <td>2025</td>\n",
       "      <td></td>\n",
       "    </tr>\n",
       "  </tbody>\n",
       "</table>\n",
       "<p>190 rows × 2 columns</p>\n",
       "</div>"
      ],
      "text/plain": [
       "     Year Annual Rainfall (mm)\n",
       "0    1836                885.2\n",
       "1    1837                746.5\n",
       "2    1838                757.1\n",
       "3    1839                918.1\n",
       "4    1840                688.7\n",
       "..    ...                  ...\n",
       "185  2021                877.3\n",
       "186  2022                778.8\n",
       "187  2023               1066.2\n",
       "188  2024               1020.1\n",
       "189  2025                     \n",
       "\n",
       "[190 rows x 2 columns]"
      ]
     },
     "execution_count": 144,
     "metadata": {},
     "output_type": "execute_result"
    }
   ],
   "source": [
    "rainfall_df['Year'] = pd.to_datetime(rainfall_df['Year'], format='%Y') # Convert 'Year' column to datetime format\n",
    "rainfall_df['Year'] = rainfall_df['Year'].dt.year # Convert 'Year' column to display only the year\n",
    "rainfall_df "
   ]
  },
  {
   "cell_type": "code",
   "execution_count": 145,
   "id": "1206089a",
   "metadata": {},
   "outputs": [
    {
     "data": {
      "text/html": [
       "<div>\n",
       "<style scoped>\n",
       "    .dataframe tbody tr th:only-of-type {\n",
       "        vertical-align: middle;\n",
       "    }\n",
       "\n",
       "    .dataframe tbody tr th {\n",
       "        vertical-align: top;\n",
       "    }\n",
       "\n",
       "    .dataframe thead th {\n",
       "        text-align: right;\n",
       "    }\n",
       "</style>\n",
       "<table border=\"1\" class=\"dataframe\">\n",
       "  <thead>\n",
       "    <tr style=\"text-align: right;\">\n",
       "      <th></th>\n",
       "      <th>Year</th>\n",
       "      <th>Annual Rainfall (mm)</th>\n",
       "    </tr>\n",
       "  </thead>\n",
       "  <tbody>\n",
       "    <tr>\n",
       "      <th>0</th>\n",
       "      <td>1836</td>\n",
       "      <td>885.2</td>\n",
       "    </tr>\n",
       "    <tr>\n",
       "      <th>1</th>\n",
       "      <td>1837</td>\n",
       "      <td>746.5</td>\n",
       "    </tr>\n",
       "    <tr>\n",
       "      <th>2</th>\n",
       "      <td>1838</td>\n",
       "      <td>757.1</td>\n",
       "    </tr>\n",
       "    <tr>\n",
       "      <th>3</th>\n",
       "      <td>1839</td>\n",
       "      <td>918.1</td>\n",
       "    </tr>\n",
       "    <tr>\n",
       "      <th>4</th>\n",
       "      <td>1840</td>\n",
       "      <td>688.7</td>\n",
       "    </tr>\n",
       "    <tr>\n",
       "      <th>...</th>\n",
       "      <td>...</td>\n",
       "      <td>...</td>\n",
       "    </tr>\n",
       "    <tr>\n",
       "      <th>185</th>\n",
       "      <td>2021</td>\n",
       "      <td>877.3</td>\n",
       "    </tr>\n",
       "    <tr>\n",
       "      <th>186</th>\n",
       "      <td>2022</td>\n",
       "      <td>778.8</td>\n",
       "    </tr>\n",
       "    <tr>\n",
       "      <th>187</th>\n",
       "      <td>2023</td>\n",
       "      <td>1066.2</td>\n",
       "    </tr>\n",
       "    <tr>\n",
       "      <th>188</th>\n",
       "      <td>2024</td>\n",
       "      <td>1020.1</td>\n",
       "    </tr>\n",
       "    <tr>\n",
       "      <th>189</th>\n",
       "      <td>2025</td>\n",
       "      <td>0</td>\n",
       "    </tr>\n",
       "  </tbody>\n",
       "</table>\n",
       "<p>190 rows × 2 columns</p>\n",
       "</div>"
      ],
      "text/plain": [
       "     Year Annual Rainfall (mm)\n",
       "0    1836                885.2\n",
       "1    1837                746.5\n",
       "2    1838                757.1\n",
       "3    1839                918.1\n",
       "4    1840                688.7\n",
       "..    ...                  ...\n",
       "185  2021                877.3\n",
       "186  2022                778.8\n",
       "187  2023               1066.2\n",
       "188  2024               1020.1\n",
       "189  2025                    0\n",
       "\n",
       "[190 rows x 2 columns]"
      ]
     },
     "execution_count": 145,
     "metadata": {},
     "output_type": "execute_result"
    }
   ],
   "source": [
    "rainfall_df.dropna(inplace=True)\n",
    "rainfall_df.replace('      ', 0, inplace=True) # Replace empty strings with 0 in the Rainfall DataFrame\n",
    "rainfall_df"
   ]
  },
  {
   "cell_type": "code",
   "execution_count": 146,
   "id": "b775fa7c",
   "metadata": {},
   "outputs": [
    {
     "name": "stdout",
     "output_type": "stream",
     "text": [
      "<class 'pandas.core.frame.DataFrame'>\n",
      "RangeIndex: 190 entries, 0 to 189\n",
      "Data columns (total 2 columns):\n",
      " #   Column                Non-Null Count  Dtype  \n",
      "---  ------                --------------  -----  \n",
      " 0   Year                  190 non-null    int32  \n",
      " 1   Annual Rainfall (mm)  190 non-null    float64\n",
      "dtypes: float64(1), int32(1)\n",
      "memory usage: 2.4 KB\n"
     ]
    }
   ],
   "source": [
    "rainfall_df['Annual Rainfall (mm)'] = rainfall_df['Annual Rainfall (mm)'].astype(float) # Ensure 'Annual Rainfall (mm)' is of type float\n",
    "rainfall_df.info()"
   ]
  },
  {
   "cell_type": "code",
   "execution_count": 147,
   "id": "b8480e04",
   "metadata": {},
   "outputs": [
    {
     "name": "stdout",
     "output_type": "stream",
     "text": [
      "<class 'pandas.core.frame.DataFrame'>\n",
      "RangeIndex: 190 entries, 0 to 189\n",
      "Data columns (total 2 columns):\n",
      " #   Column                Non-Null Count  Dtype  \n",
      "---  ------                --------------  -----  \n",
      " 0   Year                  190 non-null    int32  \n",
      " 1   Annual Rainfall (mm)  190 non-null    float64\n",
      "dtypes: float64(1), int32(1)\n",
      "memory usage: 2.4 KB\n"
     ]
    },
    {
     "data": {
      "text/html": [
       "<div>\n",
       "<style scoped>\n",
       "    .dataframe tbody tr th:only-of-type {\n",
       "        vertical-align: middle;\n",
       "    }\n",
       "\n",
       "    .dataframe tbody tr th {\n",
       "        vertical-align: top;\n",
       "    }\n",
       "\n",
       "    .dataframe thead th {\n",
       "        text-align: right;\n",
       "    }\n",
       "</style>\n",
       "<table border=\"1\" class=\"dataframe\">\n",
       "  <thead>\n",
       "    <tr style=\"text-align: right;\">\n",
       "      <th></th>\n",
       "      <th>Year</th>\n",
       "      <th>Annual Rainfall (mm)</th>\n",
       "    </tr>\n",
       "  </thead>\n",
       "  <tbody>\n",
       "    <tr>\n",
       "      <th>0</th>\n",
       "      <td>1836</td>\n",
       "      <td>885.2</td>\n",
       "    </tr>\n",
       "    <tr>\n",
       "      <th>1</th>\n",
       "      <td>1837</td>\n",
       "      <td>746.5</td>\n",
       "    </tr>\n",
       "    <tr>\n",
       "      <th>2</th>\n",
       "      <td>1838</td>\n",
       "      <td>757.1</td>\n",
       "    </tr>\n",
       "    <tr>\n",
       "      <th>3</th>\n",
       "      <td>1839</td>\n",
       "      <td>918.1</td>\n",
       "    </tr>\n",
       "    <tr>\n",
       "      <th>4</th>\n",
       "      <td>1840</td>\n",
       "      <td>688.7</td>\n",
       "    </tr>\n",
       "    <tr>\n",
       "      <th>...</th>\n",
       "      <td>...</td>\n",
       "      <td>...</td>\n",
       "    </tr>\n",
       "    <tr>\n",
       "      <th>185</th>\n",
       "      <td>2021</td>\n",
       "      <td>877.3</td>\n",
       "    </tr>\n",
       "    <tr>\n",
       "      <th>186</th>\n",
       "      <td>2022</td>\n",
       "      <td>778.8</td>\n",
       "    </tr>\n",
       "    <tr>\n",
       "      <th>187</th>\n",
       "      <td>2023</td>\n",
       "      <td>1066.2</td>\n",
       "    </tr>\n",
       "    <tr>\n",
       "      <th>188</th>\n",
       "      <td>2024</td>\n",
       "      <td>1020.1</td>\n",
       "    </tr>\n",
       "    <tr>\n",
       "      <th>189</th>\n",
       "      <td>2025</td>\n",
       "      <td>0.0</td>\n",
       "    </tr>\n",
       "  </tbody>\n",
       "</table>\n",
       "<p>190 rows × 2 columns</p>\n",
       "</div>"
      ],
      "text/plain": [
       "     Year  Annual Rainfall (mm)\n",
       "0    1836                 885.2\n",
       "1    1837                 746.5\n",
       "2    1838                 757.1\n",
       "3    1839                 918.1\n",
       "4    1840                 688.7\n",
       "..    ...                   ...\n",
       "185  2021                 877.3\n",
       "186  2022                 778.8\n",
       "187  2023                1066.2\n",
       "188  2024                1020.1\n",
       "189  2025                   0.0\n",
       "\n",
       "[190 rows x 2 columns]"
      ]
     },
     "execution_count": 147,
     "metadata": {},
     "output_type": "execute_result"
    }
   ],
   "source": [
    "rainfall_df.dropna(inplace=True) # Drop rows with missing values in the Rainfall DataFrame\n",
    "rainfall_df.info() # Display information about the Rainfall DataFrame after dropping rows with missing values\n",
    "rainfall_df"
   ]
  },
  {
   "cell_type": "code",
   "execution_count": 148,
   "id": "bebd3598",
   "metadata": {},
   "outputs": [
    {
     "data": {
      "text/html": [
       "<div>\n",
       "<style scoped>\n",
       "    .dataframe tbody tr th:only-of-type {\n",
       "        vertical-align: middle;\n",
       "    }\n",
       "\n",
       "    .dataframe tbody tr th {\n",
       "        vertical-align: top;\n",
       "    }\n",
       "\n",
       "    .dataframe thead th {\n",
       "        text-align: right;\n",
       "    }\n",
       "</style>\n",
       "<table border=\"1\" class=\"dataframe\">\n",
       "  <thead>\n",
       "    <tr style=\"text-align: right;\">\n",
       "      <th></th>\n",
       "      <th>Year</th>\n",
       "      <th>Annual Rainfall (mm)</th>\n",
       "    </tr>\n",
       "  </thead>\n",
       "  <tbody>\n",
       "    <tr>\n",
       "      <th>179</th>\n",
       "      <td>2015</td>\n",
       "      <td>866.9</td>\n",
       "    </tr>\n",
       "    <tr>\n",
       "      <th>180</th>\n",
       "      <td>2016</td>\n",
       "      <td>823.2</td>\n",
       "    </tr>\n",
       "    <tr>\n",
       "      <th>181</th>\n",
       "      <td>2017</td>\n",
       "      <td>825.1</td>\n",
       "    </tr>\n",
       "    <tr>\n",
       "      <th>182</th>\n",
       "      <td>2018</td>\n",
       "      <td>794.8</td>\n",
       "    </tr>\n",
       "    <tr>\n",
       "      <th>183</th>\n",
       "      <td>2019</td>\n",
       "      <td>979.4</td>\n",
       "    </tr>\n",
       "    <tr>\n",
       "      <th>184</th>\n",
       "      <td>2020</td>\n",
       "      <td>989.1</td>\n",
       "    </tr>\n",
       "    <tr>\n",
       "      <th>185</th>\n",
       "      <td>2021</td>\n",
       "      <td>877.3</td>\n",
       "    </tr>\n",
       "    <tr>\n",
       "      <th>186</th>\n",
       "      <td>2022</td>\n",
       "      <td>778.8</td>\n",
       "    </tr>\n",
       "    <tr>\n",
       "      <th>187</th>\n",
       "      <td>2023</td>\n",
       "      <td>1066.2</td>\n",
       "    </tr>\n",
       "    <tr>\n",
       "      <th>188</th>\n",
       "      <td>2024</td>\n",
       "      <td>1020.1</td>\n",
       "    </tr>\n",
       "  </tbody>\n",
       "</table>\n",
       "</div>"
      ],
      "text/plain": [
       "     Year  Annual Rainfall (mm)\n",
       "179  2015                 866.9\n",
       "180  2016                 823.2\n",
       "181  2017                 825.1\n",
       "182  2018                 794.8\n",
       "183  2019                 979.4\n",
       "184  2020                 989.1\n",
       "185  2021                 877.3\n",
       "186  2022                 778.8\n",
       "187  2023                1066.2\n",
       "188  2024                1020.1"
      ]
     },
     "execution_count": 148,
     "metadata": {},
     "output_type": "execute_result"
    }
   ],
   "source": [
    "# 2025 has an empty value but has not been dropped? It is not required, and this row will be dropped in the next step\n",
    "\n",
    "rainfall_df = rainfall_df[(rainfall_df['Year'] >= 2015) & (rainfall_df['Year'] <= 2024)]\n",
    "rainfall_df"
   ]
  },
  {
   "cell_type": "code",
   "execution_count": 149,
   "id": "381a3c9a",
   "metadata": {},
   "outputs": [],
   "source": [
    "# 2025 has now been dropped successfully"
   ]
  },
  {
   "cell_type": "markdown",
   "id": "7204ee60",
   "metadata": {},
   "source": [
    "\n",
    "### Reading and Indentifying Rainfall Data Type to confirm cleaning is complete\n"
   ]
  },
  {
   "cell_type": "code",
   "execution_count": 150,
   "id": "4cdfa8f1",
   "metadata": {},
   "outputs": [
    {
     "name": "stdout",
     "output_type": "stream",
     "text": [
      "<class 'pandas.core.frame.DataFrame'>\n",
      "Index: 10 entries, 179 to 188\n",
      "Data columns (total 2 columns):\n",
      " #   Column                Non-Null Count  Dtype  \n",
      "---  ------                --------------  -----  \n",
      " 0   Year                  10 non-null     int32  \n",
      " 1   Annual Rainfall (mm)  10 non-null     float64\n",
      "dtypes: float64(1), int32(1)\n",
      "memory usage: 200.0 bytes\n"
     ]
    },
    {
     "data": {
      "text/html": [
       "<div>\n",
       "<style scoped>\n",
       "    .dataframe tbody tr th:only-of-type {\n",
       "        vertical-align: middle;\n",
       "    }\n",
       "\n",
       "    .dataframe tbody tr th {\n",
       "        vertical-align: top;\n",
       "    }\n",
       "\n",
       "    .dataframe thead th {\n",
       "        text-align: right;\n",
       "    }\n",
       "</style>\n",
       "<table border=\"1\" class=\"dataframe\">\n",
       "  <thead>\n",
       "    <tr style=\"text-align: right;\">\n",
       "      <th></th>\n",
       "      <th>Year</th>\n",
       "      <th>Annual Rainfall (mm)</th>\n",
       "    </tr>\n",
       "  </thead>\n",
       "  <tbody>\n",
       "    <tr>\n",
       "      <th>179</th>\n",
       "      <td>2015</td>\n",
       "      <td>866.9</td>\n",
       "    </tr>\n",
       "    <tr>\n",
       "      <th>180</th>\n",
       "      <td>2016</td>\n",
       "      <td>823.2</td>\n",
       "    </tr>\n",
       "    <tr>\n",
       "      <th>181</th>\n",
       "      <td>2017</td>\n",
       "      <td>825.1</td>\n",
       "    </tr>\n",
       "    <tr>\n",
       "      <th>182</th>\n",
       "      <td>2018</td>\n",
       "      <td>794.8</td>\n",
       "    </tr>\n",
       "    <tr>\n",
       "      <th>183</th>\n",
       "      <td>2019</td>\n",
       "      <td>979.4</td>\n",
       "    </tr>\n",
       "  </tbody>\n",
       "</table>\n",
       "</div>"
      ],
      "text/plain": [
       "     Year  Annual Rainfall (mm)\n",
       "179  2015                 866.9\n",
       "180  2016                 823.2\n",
       "181  2017                 825.1\n",
       "182  2018                 794.8\n",
       "183  2019                 979.4"
      ]
     },
     "execution_count": 150,
     "metadata": {},
     "output_type": "execute_result"
    }
   ],
   "source": [
    "rainfall_df.info()\n",
    "rainfall_df.describe() \n",
    "rainfall_df.head() "
   ]
  },
  {
   "cell_type": "code",
   "execution_count": 151,
   "id": "13678363",
   "metadata": {},
   "outputs": [],
   "source": [
    "# Data Cleaning and Formatting for Rainfall Dataset is Complete"
   ]
  },
  {
   "cell_type": "markdown",
   "id": "37cb64e7",
   "metadata": {},
   "source": [
    "\n",
    "## Data Cleaning of Chlamydia Data\n",
    "\n",
    "I will identify and rename the headings for clarity. Then I will convert the columns to be the correct type. I will ensure the 'Year' column is displayed correctly. I will drop rows with missing values followed by rows and columns outside the required timeframe of 2015 - 2024. "
   ]
  },
  {
   "cell_type": "code",
   "execution_count": 152,
   "id": "74b0d2cd",
   "metadata": {},
   "outputs": [
    {
     "name": "stdout",
     "output_type": "stream",
     "text": [
      "Index(['Area of residence', 'Tests or diagnoses', 'Gender identity\\n[note 5]',\n",
      "       'Age', '2015', '2016', '2017', '2018', '2019', '2020 \\n[note 10]',\n",
      "       '2021\\n[note 10]', '2022', '2023', '2024',\n",
      "       'Percentage change\\n2023 to 2024', 'Unnamed: 15', 'Unnamed: 16'],\n",
      "      dtype='object')\n"
     ]
    },
    {
     "data": {
      "text/html": [
       "<div>\n",
       "<style scoped>\n",
       "    .dataframe tbody tr th:only-of-type {\n",
       "        vertical-align: middle;\n",
       "    }\n",
       "\n",
       "    .dataframe tbody tr th {\n",
       "        vertical-align: top;\n",
       "    }\n",
       "\n",
       "    .dataframe thead th {\n",
       "        text-align: right;\n",
       "    }\n",
       "</style>\n",
       "<table border=\"1\" class=\"dataframe\">\n",
       "  <thead>\n",
       "    <tr style=\"text-align: right;\">\n",
       "      <th></th>\n",
       "      <th>Area of residence</th>\n",
       "      <th>Tests or diagnoses</th>\n",
       "      <th>Gender identity\\n[note 5]</th>\n",
       "      <th>Age</th>\n",
       "      <th>2015</th>\n",
       "      <th>2016</th>\n",
       "      <th>2017</th>\n",
       "      <th>2018</th>\n",
       "      <th>2019</th>\n",
       "      <th>2020 \\n[note 10]</th>\n",
       "      <th>2021\\n[note 10]</th>\n",
       "      <th>2022</th>\n",
       "      <th>2023</th>\n",
       "      <th>2024</th>\n",
       "      <th>Percentage change\\n2023 to 2024</th>\n",
       "      <th>Unnamed: 15</th>\n",
       "      <th>Unnamed: 16</th>\n",
       "    </tr>\n",
       "  </thead>\n",
       "  <tbody>\n",
       "    <tr>\n",
       "      <th>0</th>\n",
       "      <td>England</td>\n",
       "      <td>Tests</td>\n",
       "      <td>Women</td>\n",
       "      <td>15 to 19</td>\n",
       "      <td>415359.0</td>\n",
       "      <td>365619.0</td>\n",
       "      <td>328458.0</td>\n",
       "      <td>312368.0</td>\n",
       "      <td>311493.0</td>\n",
       "      <td>198,308</td>\n",
       "      <td>192,416</td>\n",
       "      <td>194795.0</td>\n",
       "      <td>193903.0</td>\n",
       "      <td>170331.0</td>\n",
       "      <td>-12.2</td>\n",
       "      <td>NaN</td>\n",
       "      <td>NaN</td>\n",
       "    </tr>\n",
       "    <tr>\n",
       "      <th>1</th>\n",
       "      <td>England</td>\n",
       "      <td>Tests</td>\n",
       "      <td>Women</td>\n",
       "      <td>20 to 24</td>\n",
       "      <td>669788.0</td>\n",
       "      <td>632606.0</td>\n",
       "      <td>599518.0</td>\n",
       "      <td>613386.0</td>\n",
       "      <td>633243.0</td>\n",
       "      <td>478,495</td>\n",
       "      <td>500,036</td>\n",
       "      <td>495316.0</td>\n",
       "      <td>479199.0</td>\n",
       "      <td>430964.0</td>\n",
       "      <td>-10.1</td>\n",
       "      <td>NaN</td>\n",
       "      <td>NaN</td>\n",
       "    </tr>\n",
       "    <tr>\n",
       "      <th>2</th>\n",
       "      <td>England</td>\n",
       "      <td>Tests</td>\n",
       "      <td>Men</td>\n",
       "      <td>15 to 19</td>\n",
       "      <td>147030.0</td>\n",
       "      <td>123265.0</td>\n",
       "      <td>107790.0</td>\n",
       "      <td>103493.0</td>\n",
       "      <td>103960.0</td>\n",
       "      <td>60,001</td>\n",
       "      <td>56,300</td>\n",
       "      <td>61138.0</td>\n",
       "      <td>61559.0</td>\n",
       "      <td>54074.0</td>\n",
       "      <td>-12.2</td>\n",
       "      <td>NaN</td>\n",
       "      <td>NaN</td>\n",
       "    </tr>\n",
       "    <tr>\n",
       "      <th>3</th>\n",
       "      <td>England</td>\n",
       "      <td>Tests</td>\n",
       "      <td>Men</td>\n",
       "      <td>20 to 24</td>\n",
       "      <td>299623.0</td>\n",
       "      <td>280108.0</td>\n",
       "      <td>263885.0</td>\n",
       "      <td>273243.0</td>\n",
       "      <td>279066.0</td>\n",
       "      <td>195,062</td>\n",
       "      <td>199,774</td>\n",
       "      <td>215446.0</td>\n",
       "      <td>213612.0</td>\n",
       "      <td>190062.0</td>\n",
       "      <td>-11.0</td>\n",
       "      <td>NaN</td>\n",
       "      <td>NaN</td>\n",
       "    </tr>\n",
       "    <tr>\n",
       "      <th>4</th>\n",
       "      <td>England</td>\n",
       "      <td>Tests</td>\n",
       "      <td>Total</td>\n",
       "      <td>15 to 19</td>\n",
       "      <td>569147.0</td>\n",
       "      <td>497193.0</td>\n",
       "      <td>442535.0</td>\n",
       "      <td>421986.0</td>\n",
       "      <td>422474.0</td>\n",
       "      <td>262,430</td>\n",
       "      <td>255,650</td>\n",
       "      <td>267251.0</td>\n",
       "      <td>265638.0</td>\n",
       "      <td>233780.0</td>\n",
       "      <td>-12.0</td>\n",
       "      <td>NaN</td>\n",
       "      <td>NaN</td>\n",
       "    </tr>\n",
       "  </tbody>\n",
       "</table>\n",
       "</div>"
      ],
      "text/plain": [
       "  Area of residence Tests or diagnoses Gender identity\\n[note 5]       Age  \\\n",
       "0           England             Tests                      Women  15 to 19   \n",
       "1           England             Tests                      Women  20 to 24   \n",
       "2           England             Tests                        Men  15 to 19   \n",
       "3           England             Tests                        Men  20 to 24   \n",
       "4           England             Tests                      Total  15 to 19   \n",
       "\n",
       "       2015      2016      2017      2018      2019 2020 \\n[note 10]  \\\n",
       "0  415359.0  365619.0  328458.0  312368.0  311493.0          198,308   \n",
       "1  669788.0  632606.0  599518.0  613386.0  633243.0          478,495   \n",
       "2  147030.0  123265.0  107790.0  103493.0  103960.0           60,001   \n",
       "3  299623.0  280108.0  263885.0  273243.0  279066.0          195,062   \n",
       "4  569147.0  497193.0  442535.0  421986.0  422474.0          262,430   \n",
       "\n",
       "  2021\\n[note 10]      2022      2023      2024  \\\n",
       "0         192,416  194795.0  193903.0  170331.0   \n",
       "1         500,036  495316.0  479199.0  430964.0   \n",
       "2          56,300   61138.0   61559.0   54074.0   \n",
       "3         199,774  215446.0  213612.0  190062.0   \n",
       "4         255,650  267251.0  265638.0  233780.0   \n",
       "\n",
       "  Percentage change\\n2023 to 2024  Unnamed: 15  Unnamed: 16  \n",
       "0                           -12.2          NaN          NaN  \n",
       "1                           -10.1          NaN          NaN  \n",
       "2                           -12.2          NaN          NaN  \n",
       "3                           -11.0          NaN          NaN  \n",
       "4                           -12.0          NaN          NaN  "
      ]
     },
     "execution_count": 152,
     "metadata": {},
     "output_type": "execute_result"
    }
   ],
   "source": [
    "print(chlamydia_df.columns) \n",
    "chlamydia_df.head()"
   ]
  },
  {
   "cell_type": "code",
   "execution_count": 153,
   "id": "2928f166",
   "metadata": {},
   "outputs": [
    {
     "name": "stdout",
     "output_type": "stream",
     "text": [
      "Index(['Area of residence', 'Tests or diagnoses', 'Gender identity\\n[note 5]',\n",
      "       'Age', '2015', '2016', '2017', '2018', '2019', '2020 \\n[note 10]',\n",
      "       '2021\\n[note 10]', '2022', '2023', '2024'],\n",
      "      dtype='object')\n"
     ]
    }
   ],
   "source": [
    "chlamydia_df.drop (columns=['Unnamed: 15', 'Percentage change\\n2023 to 2024', 'Unnamed: 16'], inplace=True) # Drop unnecessary columns\n",
    "print (chlamydia_df.columns) # Display the updated column names after dropping unnecessary columns"
   ]
  },
  {
   "cell_type": "code",
   "execution_count": 154,
   "id": "efb18e62",
   "metadata": {},
   "outputs": [
    {
     "name": "stdout",
     "output_type": "stream",
     "text": [
      "Index(['Area of residence', 'Tests or diagnoses', 'Gender identity\\n[note 5]',\n",
      "       'Age', '2015', '2016', '2017', '2018', '2019', '2020', '2021', '2022',\n",
      "       '2023', '2024'],\n",
      "      dtype='object')\n"
     ]
    }
   ],
   "source": [
    "chlamydia_df.rename(columns={'2020 \\n[note 10]': '2020', '2021\\n[note 10]': '2021'}, inplace=True) # Rename columns for clarity\n",
    "print (chlamydia_df.columns)"
   ]
  },
  {
   "cell_type": "code",
   "execution_count": 155,
   "id": "a863be9b",
   "metadata": {},
   "outputs": [
    {
     "name": "stdout",
     "output_type": "stream",
     "text": [
      "Index(['Area of residence', 'Tests or diagnoses', 'Gender identity', 'Age',\n",
      "       '2015', '2016', '2017', '2018', '2019', '2020', '2021', '2022', '2023',\n",
      "       '2024'],\n",
      "      dtype='object')\n"
     ]
    }
   ],
   "source": [
    "# 'Gender identity\\n[note 5]' not updated previously, needs to be corrected here. \n",
    "\n",
    "chlamydia_df.rename(columns={ 'Gender identity\\n[note 5]':'Gender identity'}, inplace=True) # Rename column Gender Identity column for clarity\n",
    "print (chlamydia_df.columns)"
   ]
  },
  {
   "cell_type": "markdown",
   "id": "b80786be",
   "metadata": {},
   "source": [
    "\n",
    "### Droping rows of data not required"
   ]
  },
  {
   "cell_type": "code",
   "execution_count": 156,
   "id": "b06c434c",
   "metadata": {},
   "outputs": [
    {
     "name": "stdout",
     "output_type": "stream",
     "text": [
      "<class 'pandas.core.frame.DataFrame'>\n",
      "Index: 130 entries, 0 to 129\n",
      "Data columns (total 14 columns):\n",
      " #   Column              Non-Null Count  Dtype  \n",
      "---  ------              --------------  -----  \n",
      " 0   Area of residence   130 non-null    object \n",
      " 1   Tests or diagnoses  130 non-null    object \n",
      " 2   Gender identity     130 non-null    object \n",
      " 3   Age                 130 non-null    object \n",
      " 4   2015                130 non-null    float64\n",
      " 5   2016                130 non-null    float64\n",
      " 6   2017                130 non-null    float64\n",
      " 7   2018                130 non-null    float64\n",
      " 8   2019                130 non-null    float64\n",
      " 9   2020                130 non-null    object \n",
      " 10  2021                130 non-null    object \n",
      " 11  2022                130 non-null    float64\n",
      " 12  2023                130 non-null    float64\n",
      " 13  2024                130 non-null    float64\n",
      "dtypes: float64(8), object(6)\n",
      "memory usage: 15.2+ KB\n"
     ]
    },
    {
     "data": {
      "text/html": [
       "<div>\n",
       "<style scoped>\n",
       "    .dataframe tbody tr th:only-of-type {\n",
       "        vertical-align: middle;\n",
       "    }\n",
       "\n",
       "    .dataframe tbody tr th {\n",
       "        vertical-align: top;\n",
       "    }\n",
       "\n",
       "    .dataframe thead th {\n",
       "        text-align: right;\n",
       "    }\n",
       "</style>\n",
       "<table border=\"1\" class=\"dataframe\">\n",
       "  <thead>\n",
       "    <tr style=\"text-align: right;\">\n",
       "      <th></th>\n",
       "      <th>Area of residence</th>\n",
       "      <th>Tests or diagnoses</th>\n",
       "      <th>Gender identity</th>\n",
       "      <th>Age</th>\n",
       "      <th>2015</th>\n",
       "      <th>2016</th>\n",
       "      <th>2017</th>\n",
       "      <th>2018</th>\n",
       "      <th>2019</th>\n",
       "      <th>2020</th>\n",
       "      <th>2021</th>\n",
       "      <th>2022</th>\n",
       "      <th>2023</th>\n",
       "      <th>2024</th>\n",
       "    </tr>\n",
       "  </thead>\n",
       "  <tbody>\n",
       "    <tr>\n",
       "      <th>0</th>\n",
       "      <td>England</td>\n",
       "      <td>Tests</td>\n",
       "      <td>Women</td>\n",
       "      <td>15 to 19</td>\n",
       "      <td>415359.0</td>\n",
       "      <td>365619.0</td>\n",
       "      <td>328458.0</td>\n",
       "      <td>312368.0</td>\n",
       "      <td>311493.0</td>\n",
       "      <td>198,308</td>\n",
       "      <td>192,416</td>\n",
       "      <td>194795.0</td>\n",
       "      <td>193903.0</td>\n",
       "      <td>170331.0</td>\n",
       "    </tr>\n",
       "    <tr>\n",
       "      <th>1</th>\n",
       "      <td>England</td>\n",
       "      <td>Tests</td>\n",
       "      <td>Women</td>\n",
       "      <td>20 to 24</td>\n",
       "      <td>669788.0</td>\n",
       "      <td>632606.0</td>\n",
       "      <td>599518.0</td>\n",
       "      <td>613386.0</td>\n",
       "      <td>633243.0</td>\n",
       "      <td>478,495</td>\n",
       "      <td>500,036</td>\n",
       "      <td>495316.0</td>\n",
       "      <td>479199.0</td>\n",
       "      <td>430964.0</td>\n",
       "    </tr>\n",
       "    <tr>\n",
       "      <th>2</th>\n",
       "      <td>England</td>\n",
       "      <td>Tests</td>\n",
       "      <td>Men</td>\n",
       "      <td>15 to 19</td>\n",
       "      <td>147030.0</td>\n",
       "      <td>123265.0</td>\n",
       "      <td>107790.0</td>\n",
       "      <td>103493.0</td>\n",
       "      <td>103960.0</td>\n",
       "      <td>60,001</td>\n",
       "      <td>56,300</td>\n",
       "      <td>61138.0</td>\n",
       "      <td>61559.0</td>\n",
       "      <td>54074.0</td>\n",
       "    </tr>\n",
       "    <tr>\n",
       "      <th>3</th>\n",
       "      <td>England</td>\n",
       "      <td>Tests</td>\n",
       "      <td>Men</td>\n",
       "      <td>20 to 24</td>\n",
       "      <td>299623.0</td>\n",
       "      <td>280108.0</td>\n",
       "      <td>263885.0</td>\n",
       "      <td>273243.0</td>\n",
       "      <td>279066.0</td>\n",
       "      <td>195,062</td>\n",
       "      <td>199,774</td>\n",
       "      <td>215446.0</td>\n",
       "      <td>213612.0</td>\n",
       "      <td>190062.0</td>\n",
       "    </tr>\n",
       "    <tr>\n",
       "      <th>4</th>\n",
       "      <td>England</td>\n",
       "      <td>Tests</td>\n",
       "      <td>Total</td>\n",
       "      <td>15 to 19</td>\n",
       "      <td>569147.0</td>\n",
       "      <td>497193.0</td>\n",
       "      <td>442535.0</td>\n",
       "      <td>421986.0</td>\n",
       "      <td>422474.0</td>\n",
       "      <td>262,430</td>\n",
       "      <td>255,650</td>\n",
       "      <td>267251.0</td>\n",
       "      <td>265638.0</td>\n",
       "      <td>233780.0</td>\n",
       "    </tr>\n",
       "    <tr>\n",
       "      <th>...</th>\n",
       "      <td>...</td>\n",
       "      <td>...</td>\n",
       "      <td>...</td>\n",
       "      <td>...</td>\n",
       "      <td>...</td>\n",
       "      <td>...</td>\n",
       "      <td>...</td>\n",
       "      <td>...</td>\n",
       "      <td>...</td>\n",
       "      <td>...</td>\n",
       "      <td>...</td>\n",
       "      <td>...</td>\n",
       "      <td>...</td>\n",
       "      <td>...</td>\n",
       "    </tr>\n",
       "    <tr>\n",
       "      <th>125</th>\n",
       "      <td>South West</td>\n",
       "      <td>Diagnoses</td>\n",
       "      <td>Women</td>\n",
       "      <td>20 to 24</td>\n",
       "      <td>4111.0</td>\n",
       "      <td>4266.0</td>\n",
       "      <td>4364.0</td>\n",
       "      <td>4678.0</td>\n",
       "      <td>4444.0</td>\n",
       "      <td>3,184</td>\n",
       "      <td>2,704</td>\n",
       "      <td>3639.0</td>\n",
       "      <td>3563.0</td>\n",
       "      <td>2909.0</td>\n",
       "    </tr>\n",
       "    <tr>\n",
       "      <th>126</th>\n",
       "      <td>South West</td>\n",
       "      <td>Diagnoses</td>\n",
       "      <td>Men</td>\n",
       "      <td>15 to 19</td>\n",
       "      <td>1176.0</td>\n",
       "      <td>1216.0</td>\n",
       "      <td>1215.0</td>\n",
       "      <td>1197.0</td>\n",
       "      <td>1137.0</td>\n",
       "      <td>753</td>\n",
       "      <td>573</td>\n",
       "      <td>890.0</td>\n",
       "      <td>822.0</td>\n",
       "      <td>667.0</td>\n",
       "    </tr>\n",
       "    <tr>\n",
       "      <th>127</th>\n",
       "      <td>South West</td>\n",
       "      <td>Diagnoses</td>\n",
       "      <td>Men</td>\n",
       "      <td>20 to 24</td>\n",
       "      <td>2774.0</td>\n",
       "      <td>2904.0</td>\n",
       "      <td>2938.0</td>\n",
       "      <td>3129.0</td>\n",
       "      <td>2905.0</td>\n",
       "      <td>1,962</td>\n",
       "      <td>1,625</td>\n",
       "      <td>2312.0</td>\n",
       "      <td>2274.0</td>\n",
       "      <td>1816.0</td>\n",
       "    </tr>\n",
       "    <tr>\n",
       "      <th>128</th>\n",
       "      <td>South West</td>\n",
       "      <td>Diagnoses</td>\n",
       "      <td>Total</td>\n",
       "      <td>15 to 19</td>\n",
       "      <td>4603.0</td>\n",
       "      <td>4648.0</td>\n",
       "      <td>4663.0</td>\n",
       "      <td>4670.0</td>\n",
       "      <td>4482.0</td>\n",
       "      <td>2,846</td>\n",
       "      <td>2,330</td>\n",
       "      <td>3712.0</td>\n",
       "      <td>3341.0</td>\n",
       "      <td>2605.0</td>\n",
       "    </tr>\n",
       "    <tr>\n",
       "      <th>129</th>\n",
       "      <td>South West</td>\n",
       "      <td>Diagnoses</td>\n",
       "      <td>Total</td>\n",
       "      <td>20 to 24</td>\n",
       "      <td>6912.0</td>\n",
       "      <td>7197.0</td>\n",
       "      <td>7333.0</td>\n",
       "      <td>7857.0</td>\n",
       "      <td>7400.0</td>\n",
       "      <td>5,201</td>\n",
       "      <td>4,468</td>\n",
       "      <td>6367.0</td>\n",
       "      <td>6134.0</td>\n",
       "      <td>5059.0</td>\n",
       "    </tr>\n",
       "  </tbody>\n",
       "</table>\n",
       "<p>130 rows × 14 columns</p>\n",
       "</div>"
      ],
      "text/plain": [
       "    Area of residence Tests or diagnoses Gender identity       Age      2015  \\\n",
       "0             England             Tests            Women  15 to 19  415359.0   \n",
       "1             England             Tests            Women  20 to 24  669788.0   \n",
       "2             England             Tests              Men  15 to 19  147030.0   \n",
       "3             England             Tests              Men  20 to 24  299623.0   \n",
       "4             England             Tests            Total  15 to 19  569147.0   \n",
       "..                ...                ...             ...       ...       ...   \n",
       "125        South West          Diagnoses           Women  20 to 24    4111.0   \n",
       "126        South West          Diagnoses             Men  15 to 19    1176.0   \n",
       "127        South West          Diagnoses             Men  20 to 24    2774.0   \n",
       "128        South West          Diagnoses           Total  15 to 19    4603.0   \n",
       "129        South West          Diagnoses           Total  20 to 24    6912.0   \n",
       "\n",
       "         2016      2017      2018      2019     2020     2021      2022  \\\n",
       "0    365619.0  328458.0  312368.0  311493.0  198,308  192,416  194795.0   \n",
       "1    632606.0  599518.0  613386.0  633243.0  478,495  500,036  495316.0   \n",
       "2    123265.0  107790.0  103493.0  103960.0   60,001   56,300   61138.0   \n",
       "3    280108.0  263885.0  273243.0  279066.0  195,062  199,774  215446.0   \n",
       "4    497193.0  442535.0  421986.0  422474.0  262,430  255,650  267251.0   \n",
       "..        ...       ...       ...       ...      ...      ...       ...   \n",
       "125    4266.0    4364.0    4678.0    4444.0    3,184    2,704    3639.0   \n",
       "126    1216.0    1215.0    1197.0    1137.0      753      573     890.0   \n",
       "127    2904.0    2938.0    3129.0    2905.0    1,962    1,625    2312.0   \n",
       "128    4648.0    4663.0    4670.0    4482.0    2,846    2,330    3712.0   \n",
       "129    7197.0    7333.0    7857.0    7400.0    5,201    4,468    6367.0   \n",
       "\n",
       "         2023      2024  \n",
       "0    193903.0  170331.0  \n",
       "1    479199.0  430964.0  \n",
       "2     61559.0   54074.0  \n",
       "3    213612.0  190062.0  \n",
       "4    265638.0  233780.0  \n",
       "..        ...       ...  \n",
       "125    3563.0    2909.0  \n",
       "126     822.0     667.0  \n",
       "127    2274.0    1816.0  \n",
       "128    3341.0    2605.0  \n",
       "129    6134.0    5059.0  \n",
       "\n",
       "[130 rows x 14 columns]"
      ]
     },
     "execution_count": 156,
     "metadata": {},
     "output_type": "execute_result"
    }
   ],
   "source": [
    "chlamydia_df.dropna(inplace=True) # Drop rows with missing values in the Chlamydia DataFrame\n",
    "chlamydia_df.info()\n",
    "chlamydia_df "
   ]
  },
  {
   "cell_type": "code",
   "execution_count": 157,
   "id": "bd162a13",
   "metadata": {},
   "outputs": [
    {
     "data": {
      "text/html": [
       "<div>\n",
       "<style scoped>\n",
       "    .dataframe tbody tr th:only-of-type {\n",
       "        vertical-align: middle;\n",
       "    }\n",
       "\n",
       "    .dataframe tbody tr th {\n",
       "        vertical-align: top;\n",
       "    }\n",
       "\n",
       "    .dataframe thead th {\n",
       "        text-align: right;\n",
       "    }\n",
       "</style>\n",
       "<table border=\"1\" class=\"dataframe\">\n",
       "  <thead>\n",
       "    <tr style=\"text-align: right;\">\n",
       "      <th></th>\n",
       "      <th>Area of residence</th>\n",
       "      <th>Tests or diagnoses</th>\n",
       "      <th>Gender identity</th>\n",
       "      <th>Age</th>\n",
       "      <th>2015</th>\n",
       "      <th>2016</th>\n",
       "      <th>2017</th>\n",
       "      <th>2018</th>\n",
       "      <th>2019</th>\n",
       "      <th>2020</th>\n",
       "      <th>2021</th>\n",
       "      <th>2022</th>\n",
       "      <th>2023</th>\n",
       "      <th>2024</th>\n",
       "    </tr>\n",
       "  </thead>\n",
       "  <tbody>\n",
       "    <tr>\n",
       "      <th>0</th>\n",
       "      <td>England</td>\n",
       "      <td>Tests</td>\n",
       "      <td>Women</td>\n",
       "      <td>15 to 19</td>\n",
       "      <td>415359.0</td>\n",
       "      <td>365619.0</td>\n",
       "      <td>328458.0</td>\n",
       "      <td>312368.0</td>\n",
       "      <td>311493.0</td>\n",
       "      <td>198,308</td>\n",
       "      <td>192,416</td>\n",
       "      <td>194795.0</td>\n",
       "      <td>193903.0</td>\n",
       "      <td>170331.0</td>\n",
       "    </tr>\n",
       "    <tr>\n",
       "      <th>1</th>\n",
       "      <td>England</td>\n",
       "      <td>Tests</td>\n",
       "      <td>Women</td>\n",
       "      <td>20 to 24</td>\n",
       "      <td>669788.0</td>\n",
       "      <td>632606.0</td>\n",
       "      <td>599518.0</td>\n",
       "      <td>613386.0</td>\n",
       "      <td>633243.0</td>\n",
       "      <td>478,495</td>\n",
       "      <td>500,036</td>\n",
       "      <td>495316.0</td>\n",
       "      <td>479199.0</td>\n",
       "      <td>430964.0</td>\n",
       "    </tr>\n",
       "    <tr>\n",
       "      <th>2</th>\n",
       "      <td>England</td>\n",
       "      <td>Tests</td>\n",
       "      <td>Men</td>\n",
       "      <td>15 to 19</td>\n",
       "      <td>147030.0</td>\n",
       "      <td>123265.0</td>\n",
       "      <td>107790.0</td>\n",
       "      <td>103493.0</td>\n",
       "      <td>103960.0</td>\n",
       "      <td>60,001</td>\n",
       "      <td>56,300</td>\n",
       "      <td>61138.0</td>\n",
       "      <td>61559.0</td>\n",
       "      <td>54074.0</td>\n",
       "    </tr>\n",
       "    <tr>\n",
       "      <th>3</th>\n",
       "      <td>England</td>\n",
       "      <td>Tests</td>\n",
       "      <td>Men</td>\n",
       "      <td>20 to 24</td>\n",
       "      <td>299623.0</td>\n",
       "      <td>280108.0</td>\n",
       "      <td>263885.0</td>\n",
       "      <td>273243.0</td>\n",
       "      <td>279066.0</td>\n",
       "      <td>195,062</td>\n",
       "      <td>199,774</td>\n",
       "      <td>215446.0</td>\n",
       "      <td>213612.0</td>\n",
       "      <td>190062.0</td>\n",
       "    </tr>\n",
       "    <tr>\n",
       "      <th>4</th>\n",
       "      <td>England</td>\n",
       "      <td>Tests</td>\n",
       "      <td>Total</td>\n",
       "      <td>15 to 19</td>\n",
       "      <td>569147.0</td>\n",
       "      <td>497193.0</td>\n",
       "      <td>442535.0</td>\n",
       "      <td>421986.0</td>\n",
       "      <td>422474.0</td>\n",
       "      <td>262,430</td>\n",
       "      <td>255,650</td>\n",
       "      <td>267251.0</td>\n",
       "      <td>265638.0</td>\n",
       "      <td>233780.0</td>\n",
       "    </tr>\n",
       "    <tr>\n",
       "      <th>5</th>\n",
       "      <td>England</td>\n",
       "      <td>Tests</td>\n",
       "      <td>Total</td>\n",
       "      <td>20 to 24</td>\n",
       "      <td>978488.0</td>\n",
       "      <td>925365.0</td>\n",
       "      <td>873008.0</td>\n",
       "      <td>895719.0</td>\n",
       "      <td>923451.0</td>\n",
       "      <td>681,514</td>\n",
       "      <td>715,693</td>\n",
       "      <td>732530.0</td>\n",
       "      <td>712510.0</td>\n",
       "      <td>640414.0</td>\n",
       "    </tr>\n",
       "    <tr>\n",
       "      <th>6</th>\n",
       "      <td>England</td>\n",
       "      <td>Diagnoses</td>\n",
       "      <td>Women</td>\n",
       "      <td>15 to 19</td>\n",
       "      <td>38477.0</td>\n",
       "      <td>36993.0</td>\n",
       "      <td>36128.0</td>\n",
       "      <td>36452.0</td>\n",
       "      <td>36468.0</td>\n",
       "      <td>23,699</td>\n",
       "      <td>21,309</td>\n",
       "      <td>26741.0</td>\n",
       "      <td>25675.0</td>\n",
       "      <td>20593.0</td>\n",
       "    </tr>\n",
       "    <tr>\n",
       "      <th>7</th>\n",
       "      <td>England</td>\n",
       "      <td>Diagnoses</td>\n",
       "      <td>Women</td>\n",
       "      <td>20 to 24</td>\n",
       "      <td>45565.0</td>\n",
       "      <td>46120.0</td>\n",
       "      <td>46746.0</td>\n",
       "      <td>49046.0</td>\n",
       "      <td>50200.0</td>\n",
       "      <td>36,683</td>\n",
       "      <td>33,862</td>\n",
       "      <td>40760.0</td>\n",
       "      <td>39127.0</td>\n",
       "      <td>32573.0</td>\n",
       "    </tr>\n",
       "    <tr>\n",
       "      <th>8</th>\n",
       "      <td>England</td>\n",
       "      <td>Diagnoses</td>\n",
       "      <td>Men</td>\n",
       "      <td>15 to 19</td>\n",
       "      <td>13753.0</td>\n",
       "      <td>12976.0</td>\n",
       "      <td>12734.0</td>\n",
       "      <td>13180.0</td>\n",
       "      <td>13506.0</td>\n",
       "      <td>8,489</td>\n",
       "      <td>7,632</td>\n",
       "      <td>10216.0</td>\n",
       "      <td>9852.0</td>\n",
       "      <td>8194.0</td>\n",
       "    </tr>\n",
       "    <tr>\n",
       "      <th>9</th>\n",
       "      <td>England</td>\n",
       "      <td>Diagnoses</td>\n",
       "      <td>Men</td>\n",
       "      <td>20 to 24</td>\n",
       "      <td>31379.0</td>\n",
       "      <td>31689.0</td>\n",
       "      <td>31629.0</td>\n",
       "      <td>32894.0</td>\n",
       "      <td>32889.0</td>\n",
       "      <td>22,537</td>\n",
       "      <td>20,948</td>\n",
       "      <td>26574.0</td>\n",
       "      <td>25897.0</td>\n",
       "      <td>21244.0</td>\n",
       "    </tr>\n",
       "    <tr>\n",
       "      <th>10</th>\n",
       "      <td>England</td>\n",
       "      <td>Diagnoses</td>\n",
       "      <td>Total</td>\n",
       "      <td>15 to 19</td>\n",
       "      <td>52952.0</td>\n",
       "      <td>50852.0</td>\n",
       "      <td>49630.0</td>\n",
       "      <td>50470.0</td>\n",
       "      <td>50924.0</td>\n",
       "      <td>32,874</td>\n",
       "      <td>29,756</td>\n",
       "      <td>38616.0</td>\n",
       "      <td>36783.0</td>\n",
       "      <td>29886.0</td>\n",
       "    </tr>\n",
       "    <tr>\n",
       "      <th>11</th>\n",
       "      <td>England</td>\n",
       "      <td>Diagnoses</td>\n",
       "      <td>Total</td>\n",
       "      <td>20 to 24</td>\n",
       "      <td>77743.0</td>\n",
       "      <td>78973.0</td>\n",
       "      <td>79274.0</td>\n",
       "      <td>82903.0</td>\n",
       "      <td>84314.0</td>\n",
       "      <td>60,280</td>\n",
       "      <td>56,202</td>\n",
       "      <td>69948.0</td>\n",
       "      <td>67225.0</td>\n",
       "      <td>55871.0</td>\n",
       "    </tr>\n",
       "    <tr>\n",
       "      <th>12</th>\n",
       "      <td>England</td>\n",
       "      <td>Diagnoses</td>\n",
       "      <td>Total</td>\n",
       "      <td>15 to 24</td>\n",
       "      <td>130695.0</td>\n",
       "      <td>129825.0</td>\n",
       "      <td>128904.0</td>\n",
       "      <td>133373.0</td>\n",
       "      <td>135238.0</td>\n",
       "      <td>93,154</td>\n",
       "      <td>85,958</td>\n",
       "      <td>108564.0</td>\n",
       "      <td>104008.0</td>\n",
       "      <td>85757.0</td>\n",
       "    </tr>\n",
       "  </tbody>\n",
       "</table>\n",
       "</div>"
      ],
      "text/plain": [
       "   Area of residence Tests or diagnoses Gender identity       Age      2015  \\\n",
       "0            England             Tests            Women  15 to 19  415359.0   \n",
       "1            England             Tests            Women  20 to 24  669788.0   \n",
       "2            England             Tests              Men  15 to 19  147030.0   \n",
       "3            England             Tests              Men  20 to 24  299623.0   \n",
       "4            England             Tests            Total  15 to 19  569147.0   \n",
       "5            England             Tests            Total  20 to 24  978488.0   \n",
       "6            England          Diagnoses           Women  15 to 19   38477.0   \n",
       "7            England          Diagnoses           Women  20 to 24   45565.0   \n",
       "8            England          Diagnoses             Men  15 to 19   13753.0   \n",
       "9            England          Diagnoses             Men  20 to 24   31379.0   \n",
       "10           England          Diagnoses           Total  15 to 19   52952.0   \n",
       "11           England          Diagnoses           Total  20 to 24   77743.0   \n",
       "12           England          Diagnoses           Total  15 to 24  130695.0   \n",
       "\n",
       "        2016      2017      2018      2019     2020     2021      2022  \\\n",
       "0   365619.0  328458.0  312368.0  311493.0  198,308  192,416  194795.0   \n",
       "1   632606.0  599518.0  613386.0  633243.0  478,495  500,036  495316.0   \n",
       "2   123265.0  107790.0  103493.0  103960.0   60,001   56,300   61138.0   \n",
       "3   280108.0  263885.0  273243.0  279066.0  195,062  199,774  215446.0   \n",
       "4   497193.0  442535.0  421986.0  422474.0  262,430  255,650  267251.0   \n",
       "5   925365.0  873008.0  895719.0  923451.0  681,514  715,693  732530.0   \n",
       "6    36993.0   36128.0   36452.0   36468.0   23,699   21,309   26741.0   \n",
       "7    46120.0   46746.0   49046.0   50200.0   36,683   33,862   40760.0   \n",
       "8    12976.0   12734.0   13180.0   13506.0    8,489    7,632   10216.0   \n",
       "9    31689.0   31629.0   32894.0   32889.0   22,537   20,948   26574.0   \n",
       "10   50852.0   49630.0   50470.0   50924.0   32,874   29,756   38616.0   \n",
       "11   78973.0   79274.0   82903.0   84314.0   60,280   56,202   69948.0   \n",
       "12  129825.0  128904.0  133373.0  135238.0   93,154   85,958  108564.0   \n",
       "\n",
       "        2023      2024  \n",
       "0   193903.0  170331.0  \n",
       "1   479199.0  430964.0  \n",
       "2    61559.0   54074.0  \n",
       "3   213612.0  190062.0  \n",
       "4   265638.0  233780.0  \n",
       "5   712510.0  640414.0  \n",
       "6    25675.0   20593.0  \n",
       "7    39127.0   32573.0  \n",
       "8     9852.0    8194.0  \n",
       "9    25897.0   21244.0  \n",
       "10   36783.0   29886.0  \n",
       "11   67225.0   55871.0  \n",
       "12  104008.0   85757.0  "
      ]
     },
     "execution_count": 157,
     "metadata": {},
     "output_type": "execute_result"
    }
   ],
   "source": [
    "# Dropping rows not in England\n",
    "\n",
    "chlamydia_df = chlamydia_df[chlamydia_df['Area of residence'] == 'England'] # Filter the Chlamydia DataFrame to keep only rows where the 'Area of residence' is 'England'\n",
    "chlamydia_df"
   ]
  },
  {
   "cell_type": "code",
   "execution_count": 158,
   "id": "b81bacf5",
   "metadata": {},
   "outputs": [
    {
     "data": {
      "text/html": [
       "<div>\n",
       "<style scoped>\n",
       "    .dataframe tbody tr th:only-of-type {\n",
       "        vertical-align: middle;\n",
       "    }\n",
       "\n",
       "    .dataframe tbody tr th {\n",
       "        vertical-align: top;\n",
       "    }\n",
       "\n",
       "    .dataframe thead th {\n",
       "        text-align: right;\n",
       "    }\n",
       "</style>\n",
       "<table border=\"1\" class=\"dataframe\">\n",
       "  <thead>\n",
       "    <tr style=\"text-align: right;\">\n",
       "      <th></th>\n",
       "      <th>Area of residence</th>\n",
       "      <th>Tests or diagnoses</th>\n",
       "      <th>Gender identity</th>\n",
       "      <th>Age</th>\n",
       "      <th>2015</th>\n",
       "      <th>2016</th>\n",
       "      <th>2017</th>\n",
       "      <th>2018</th>\n",
       "      <th>2019</th>\n",
       "      <th>2020</th>\n",
       "      <th>2021</th>\n",
       "      <th>2022</th>\n",
       "      <th>2023</th>\n",
       "      <th>2024</th>\n",
       "    </tr>\n",
       "  </thead>\n",
       "  <tbody>\n",
       "    <tr>\n",
       "      <th>6</th>\n",
       "      <td>England</td>\n",
       "      <td>Diagnoses</td>\n",
       "      <td>Women</td>\n",
       "      <td>15 to 19</td>\n",
       "      <td>38477.0</td>\n",
       "      <td>36993.0</td>\n",
       "      <td>36128.0</td>\n",
       "      <td>36452.0</td>\n",
       "      <td>36468.0</td>\n",
       "      <td>23,699</td>\n",
       "      <td>21,309</td>\n",
       "      <td>26741.0</td>\n",
       "      <td>25675.0</td>\n",
       "      <td>20593.0</td>\n",
       "    </tr>\n",
       "    <tr>\n",
       "      <th>7</th>\n",
       "      <td>England</td>\n",
       "      <td>Diagnoses</td>\n",
       "      <td>Women</td>\n",
       "      <td>20 to 24</td>\n",
       "      <td>45565.0</td>\n",
       "      <td>46120.0</td>\n",
       "      <td>46746.0</td>\n",
       "      <td>49046.0</td>\n",
       "      <td>50200.0</td>\n",
       "      <td>36,683</td>\n",
       "      <td>33,862</td>\n",
       "      <td>40760.0</td>\n",
       "      <td>39127.0</td>\n",
       "      <td>32573.0</td>\n",
       "    </tr>\n",
       "    <tr>\n",
       "      <th>8</th>\n",
       "      <td>England</td>\n",
       "      <td>Diagnoses</td>\n",
       "      <td>Men</td>\n",
       "      <td>15 to 19</td>\n",
       "      <td>13753.0</td>\n",
       "      <td>12976.0</td>\n",
       "      <td>12734.0</td>\n",
       "      <td>13180.0</td>\n",
       "      <td>13506.0</td>\n",
       "      <td>8,489</td>\n",
       "      <td>7,632</td>\n",
       "      <td>10216.0</td>\n",
       "      <td>9852.0</td>\n",
       "      <td>8194.0</td>\n",
       "    </tr>\n",
       "    <tr>\n",
       "      <th>9</th>\n",
       "      <td>England</td>\n",
       "      <td>Diagnoses</td>\n",
       "      <td>Men</td>\n",
       "      <td>20 to 24</td>\n",
       "      <td>31379.0</td>\n",
       "      <td>31689.0</td>\n",
       "      <td>31629.0</td>\n",
       "      <td>32894.0</td>\n",
       "      <td>32889.0</td>\n",
       "      <td>22,537</td>\n",
       "      <td>20,948</td>\n",
       "      <td>26574.0</td>\n",
       "      <td>25897.0</td>\n",
       "      <td>21244.0</td>\n",
       "    </tr>\n",
       "    <tr>\n",
       "      <th>10</th>\n",
       "      <td>England</td>\n",
       "      <td>Diagnoses</td>\n",
       "      <td>Total</td>\n",
       "      <td>15 to 19</td>\n",
       "      <td>52952.0</td>\n",
       "      <td>50852.0</td>\n",
       "      <td>49630.0</td>\n",
       "      <td>50470.0</td>\n",
       "      <td>50924.0</td>\n",
       "      <td>32,874</td>\n",
       "      <td>29,756</td>\n",
       "      <td>38616.0</td>\n",
       "      <td>36783.0</td>\n",
       "      <td>29886.0</td>\n",
       "    </tr>\n",
       "    <tr>\n",
       "      <th>11</th>\n",
       "      <td>England</td>\n",
       "      <td>Diagnoses</td>\n",
       "      <td>Total</td>\n",
       "      <td>20 to 24</td>\n",
       "      <td>77743.0</td>\n",
       "      <td>78973.0</td>\n",
       "      <td>79274.0</td>\n",
       "      <td>82903.0</td>\n",
       "      <td>84314.0</td>\n",
       "      <td>60,280</td>\n",
       "      <td>56,202</td>\n",
       "      <td>69948.0</td>\n",
       "      <td>67225.0</td>\n",
       "      <td>55871.0</td>\n",
       "    </tr>\n",
       "    <tr>\n",
       "      <th>12</th>\n",
       "      <td>England</td>\n",
       "      <td>Diagnoses</td>\n",
       "      <td>Total</td>\n",
       "      <td>15 to 24</td>\n",
       "      <td>130695.0</td>\n",
       "      <td>129825.0</td>\n",
       "      <td>128904.0</td>\n",
       "      <td>133373.0</td>\n",
       "      <td>135238.0</td>\n",
       "      <td>93,154</td>\n",
       "      <td>85,958</td>\n",
       "      <td>108564.0</td>\n",
       "      <td>104008.0</td>\n",
       "      <td>85757.0</td>\n",
       "    </tr>\n",
       "  </tbody>\n",
       "</table>\n",
       "</div>"
      ],
      "text/plain": [
       "   Area of residence Tests or diagnoses Gender identity       Age      2015  \\\n",
       "6            England          Diagnoses           Women  15 to 19   38477.0   \n",
       "7            England          Diagnoses           Women  20 to 24   45565.0   \n",
       "8            England          Diagnoses             Men  15 to 19   13753.0   \n",
       "9            England          Diagnoses             Men  20 to 24   31379.0   \n",
       "10           England          Diagnoses           Total  15 to 19   52952.0   \n",
       "11           England          Diagnoses           Total  20 to 24   77743.0   \n",
       "12           England          Diagnoses           Total  15 to 24  130695.0   \n",
       "\n",
       "        2016      2017      2018      2019    2020    2021      2022  \\\n",
       "6    36993.0   36128.0   36452.0   36468.0  23,699  21,309   26741.0   \n",
       "7    46120.0   46746.0   49046.0   50200.0  36,683  33,862   40760.0   \n",
       "8    12976.0   12734.0   13180.0   13506.0   8,489   7,632   10216.0   \n",
       "9    31689.0   31629.0   32894.0   32889.0  22,537  20,948   26574.0   \n",
       "10   50852.0   49630.0   50470.0   50924.0  32,874  29,756   38616.0   \n",
       "11   78973.0   79274.0   82903.0   84314.0  60,280  56,202   69948.0   \n",
       "12  129825.0  128904.0  133373.0  135238.0  93,154  85,958  108564.0   \n",
       "\n",
       "        2023     2024  \n",
       "6    25675.0  20593.0  \n",
       "7    39127.0  32573.0  \n",
       "8     9852.0   8194.0  \n",
       "9    25897.0  21244.0  \n",
       "10   36783.0  29886.0  \n",
       "11   67225.0  55871.0  \n",
       "12  104008.0  85757.0  "
      ]
     },
     "execution_count": 158,
     "metadata": {},
     "output_type": "execute_result"
    }
   ],
   "source": [
    "# Drop rows rows not Diagnoses\n",
    "\n",
    "chlamydia_df = chlamydia_df[chlamydia_df['Tests or diagnoses'] == 'Diagnoses'] # Filter the Chlamydia DataFrame to keep only rows where the 'Tests or diagnoses' is 'Diagnoses'\n",
    "chlamydia_df #"
   ]
  },
  {
   "cell_type": "code",
   "execution_count": 159,
   "id": "12684f38",
   "metadata": {},
   "outputs": [
    {
     "data": {
      "text/html": [
       "<div>\n",
       "<style scoped>\n",
       "    .dataframe tbody tr th:only-of-type {\n",
       "        vertical-align: middle;\n",
       "    }\n",
       "\n",
       "    .dataframe tbody tr th {\n",
       "        vertical-align: top;\n",
       "    }\n",
       "\n",
       "    .dataframe thead th {\n",
       "        text-align: right;\n",
       "    }\n",
       "</style>\n",
       "<table border=\"1\" class=\"dataframe\">\n",
       "  <thead>\n",
       "    <tr style=\"text-align: right;\">\n",
       "      <th></th>\n",
       "      <th>Area of residence</th>\n",
       "      <th>Tests or diagnoses</th>\n",
       "      <th>Gender identity</th>\n",
       "      <th>Age</th>\n",
       "      <th>2015</th>\n",
       "      <th>2016</th>\n",
       "      <th>2017</th>\n",
       "      <th>2018</th>\n",
       "      <th>2019</th>\n",
       "      <th>2020</th>\n",
       "      <th>2021</th>\n",
       "      <th>2022</th>\n",
       "      <th>2023</th>\n",
       "      <th>2024</th>\n",
       "    </tr>\n",
       "  </thead>\n",
       "  <tbody>\n",
       "    <tr>\n",
       "      <th>10</th>\n",
       "      <td>England</td>\n",
       "      <td>Diagnoses</td>\n",
       "      <td>Total</td>\n",
       "      <td>15 to 19</td>\n",
       "      <td>52952.0</td>\n",
       "      <td>50852.0</td>\n",
       "      <td>49630.0</td>\n",
       "      <td>50470.0</td>\n",
       "      <td>50924.0</td>\n",
       "      <td>32,874</td>\n",
       "      <td>29,756</td>\n",
       "      <td>38616.0</td>\n",
       "      <td>36783.0</td>\n",
       "      <td>29886.0</td>\n",
       "    </tr>\n",
       "    <tr>\n",
       "      <th>11</th>\n",
       "      <td>England</td>\n",
       "      <td>Diagnoses</td>\n",
       "      <td>Total</td>\n",
       "      <td>20 to 24</td>\n",
       "      <td>77743.0</td>\n",
       "      <td>78973.0</td>\n",
       "      <td>79274.0</td>\n",
       "      <td>82903.0</td>\n",
       "      <td>84314.0</td>\n",
       "      <td>60,280</td>\n",
       "      <td>56,202</td>\n",
       "      <td>69948.0</td>\n",
       "      <td>67225.0</td>\n",
       "      <td>55871.0</td>\n",
       "    </tr>\n",
       "    <tr>\n",
       "      <th>12</th>\n",
       "      <td>England</td>\n",
       "      <td>Diagnoses</td>\n",
       "      <td>Total</td>\n",
       "      <td>15 to 24</td>\n",
       "      <td>130695.0</td>\n",
       "      <td>129825.0</td>\n",
       "      <td>128904.0</td>\n",
       "      <td>133373.0</td>\n",
       "      <td>135238.0</td>\n",
       "      <td>93,154</td>\n",
       "      <td>85,958</td>\n",
       "      <td>108564.0</td>\n",
       "      <td>104008.0</td>\n",
       "      <td>85757.0</td>\n",
       "    </tr>\n",
       "  </tbody>\n",
       "</table>\n",
       "</div>"
      ],
      "text/plain": [
       "   Area of residence Tests or diagnoses Gender identity       Age      2015  \\\n",
       "10           England          Diagnoses           Total  15 to 19   52952.0   \n",
       "11           England          Diagnoses           Total  20 to 24   77743.0   \n",
       "12           England          Diagnoses           Total  15 to 24  130695.0   \n",
       "\n",
       "        2016      2017      2018      2019    2020    2021      2022  \\\n",
       "10   50852.0   49630.0   50470.0   50924.0  32,874  29,756   38616.0   \n",
       "11   78973.0   79274.0   82903.0   84314.0  60,280  56,202   69948.0   \n",
       "12  129825.0  128904.0  133373.0  135238.0  93,154  85,958  108564.0   \n",
       "\n",
       "        2023     2024  \n",
       "10   36783.0  29886.0  \n",
       "11   67225.0  55871.0  \n",
       "12  104008.0  85757.0  "
      ]
     },
     "execution_count": 159,
     "metadata": {},
     "output_type": "execute_result"
    }
   ],
   "source": [
    "# Drop rows not in Total in Gender identity\n",
    "\n",
    "chlamydia_df = chlamydia_df[chlamydia_df['Gender identity'] == 'Total'] # Filter the Chlamydia DataFrame to keep only rows where Total is Gender Identity\n",
    "chlamydia_df "
   ]
  },
  {
   "cell_type": "code",
   "execution_count": 160,
   "id": "b08e951d",
   "metadata": {},
   "outputs": [],
   "source": [
    "# Not filtering futher to the 15 - 24 Age group as this would reduce abilty to visualise diagnosis by age break down."
   ]
  },
  {
   "cell_type": "markdown",
   "id": "2fc904c3",
   "metadata": {},
   "source": [
    "\n",
    "### Converting float types of Years from object and float types to integers\n"
   ]
  },
  {
   "cell_type": "code",
   "execution_count": 161,
   "id": "b3ec700e",
   "metadata": {},
   "outputs": [
    {
     "name": "stderr",
     "output_type": "stream",
     "text": [
      "/var/folders/zh/7q9zzj496zl6c_xx_q5_21lm0000gn/T/ipykernel_52654/2960009763.py:3: SettingWithCopyWarning:\n",
      "\n",
      "\n",
      "A value is trying to be set on a copy of a slice from a DataFrame.\n",
      "Try using .loc[row_indexer,col_indexer] = value instead\n",
      "\n",
      "See the caveats in the documentation: https://pandas.pydata.org/pandas-docs/stable/user_guide/indexing.html#returning-a-view-versus-a-copy\n",
      "\n",
      "/var/folders/zh/7q9zzj496zl6c_xx_q5_21lm0000gn/T/ipykernel_52654/2960009763.py:4: SettingWithCopyWarning:\n",
      "\n",
      "\n",
      "A value is trying to be set on a copy of a slice from a DataFrame.\n",
      "Try using .loc[row_indexer,col_indexer] = value instead\n",
      "\n",
      "See the caveats in the documentation: https://pandas.pydata.org/pandas-docs/stable/user_guide/indexing.html#returning-a-view-versus-a-copy\n",
      "\n",
      "/var/folders/zh/7q9zzj496zl6c_xx_q5_21lm0000gn/T/ipykernel_52654/2960009763.py:5: SettingWithCopyWarning:\n",
      "\n",
      "\n",
      "A value is trying to be set on a copy of a slice from a DataFrame.\n",
      "Try using .loc[row_indexer,col_indexer] = value instead\n",
      "\n",
      "See the caveats in the documentation: https://pandas.pydata.org/pandas-docs/stable/user_guide/indexing.html#returning-a-view-versus-a-copy\n",
      "\n",
      "/var/folders/zh/7q9zzj496zl6c_xx_q5_21lm0000gn/T/ipykernel_52654/2960009763.py:6: SettingWithCopyWarning:\n",
      "\n",
      "\n",
      "A value is trying to be set on a copy of a slice from a DataFrame.\n",
      "Try using .loc[row_indexer,col_indexer] = value instead\n",
      "\n",
      "See the caveats in the documentation: https://pandas.pydata.org/pandas-docs/stable/user_guide/indexing.html#returning-a-view-versus-a-copy\n",
      "\n",
      "/var/folders/zh/7q9zzj496zl6c_xx_q5_21lm0000gn/T/ipykernel_52654/2960009763.py:7: SettingWithCopyWarning:\n",
      "\n",
      "\n",
      "A value is trying to be set on a copy of a slice from a DataFrame.\n",
      "Try using .loc[row_indexer,col_indexer] = value instead\n",
      "\n",
      "See the caveats in the documentation: https://pandas.pydata.org/pandas-docs/stable/user_guide/indexing.html#returning-a-view-versus-a-copy\n",
      "\n",
      "/var/folders/zh/7q9zzj496zl6c_xx_q5_21lm0000gn/T/ipykernel_52654/2960009763.py:8: SettingWithCopyWarning:\n",
      "\n",
      "\n",
      "A value is trying to be set on a copy of a slice from a DataFrame.\n",
      "Try using .loc[row_indexer,col_indexer] = value instead\n",
      "\n",
      "See the caveats in the documentation: https://pandas.pydata.org/pandas-docs/stable/user_guide/indexing.html#returning-a-view-versus-a-copy\n",
      "\n",
      "/var/folders/zh/7q9zzj496zl6c_xx_q5_21lm0000gn/T/ipykernel_52654/2960009763.py:9: SettingWithCopyWarning:\n",
      "\n",
      "\n",
      "A value is trying to be set on a copy of a slice from a DataFrame.\n",
      "Try using .loc[row_indexer,col_indexer] = value instead\n",
      "\n",
      "See the caveats in the documentation: https://pandas.pydata.org/pandas-docs/stable/user_guide/indexing.html#returning-a-view-versus-a-copy\n",
      "\n",
      "/var/folders/zh/7q9zzj496zl6c_xx_q5_21lm0000gn/T/ipykernel_52654/2960009763.py:10: SettingWithCopyWarning:\n",
      "\n",
      "\n",
      "A value is trying to be set on a copy of a slice from a DataFrame.\n",
      "Try using .loc[row_indexer,col_indexer] = value instead\n",
      "\n",
      "See the caveats in the documentation: https://pandas.pydata.org/pandas-docs/stable/user_guide/indexing.html#returning-a-view-versus-a-copy\n",
      "\n",
      "/var/folders/zh/7q9zzj496zl6c_xx_q5_21lm0000gn/T/ipykernel_52654/2960009763.py:11: SettingWithCopyWarning:\n",
      "\n",
      "\n",
      "A value is trying to be set on a copy of a slice from a DataFrame.\n",
      "Try using .loc[row_indexer,col_indexer] = value instead\n",
      "\n",
      "See the caveats in the documentation: https://pandas.pydata.org/pandas-docs/stable/user_guide/indexing.html#returning-a-view-versus-a-copy\n",
      "\n",
      "/var/folders/zh/7q9zzj496zl6c_xx_q5_21lm0000gn/T/ipykernel_52654/2960009763.py:12: SettingWithCopyWarning:\n",
      "\n",
      "\n",
      "A value is trying to be set on a copy of a slice from a DataFrame.\n",
      "Try using .loc[row_indexer,col_indexer] = value instead\n",
      "\n",
      "See the caveats in the documentation: https://pandas.pydata.org/pandas-docs/stable/user_guide/indexing.html#returning-a-view-versus-a-copy\n",
      "\n"
     ]
    },
    {
     "name": "stdout",
     "output_type": "stream",
     "text": [
      "<class 'pandas.core.frame.DataFrame'>\n",
      "Index: 3 entries, 10 to 12\n",
      "Data columns (total 14 columns):\n",
      " #   Column              Non-Null Count  Dtype \n",
      "---  ------              --------------  ----- \n",
      " 0   Area of residence   3 non-null      object\n",
      " 1   Tests or diagnoses  3 non-null      object\n",
      " 2   Gender identity     3 non-null      object\n",
      " 3   Age                 3 non-null      object\n",
      " 4   2015                3 non-null      int64 \n",
      " 5   2016                3 non-null      int64 \n",
      " 6   2017                3 non-null      int64 \n",
      " 7   2018                3 non-null      int64 \n",
      " 8   2019                3 non-null      int64 \n",
      " 9   2020                3 non-null      int64 \n",
      " 10  2021                3 non-null      int64 \n",
      " 11  2022                3 non-null      int64 \n",
      " 12  2023                3 non-null      int64 \n",
      " 13  2024                3 non-null      int64 \n",
      "dtypes: int64(10), object(4)\n",
      "memory usage: 360.0+ bytes\n"
     ]
    },
    {
     "data": {
      "text/html": [
       "<div>\n",
       "<style scoped>\n",
       "    .dataframe tbody tr th:only-of-type {\n",
       "        vertical-align: middle;\n",
       "    }\n",
       "\n",
       "    .dataframe tbody tr th {\n",
       "        vertical-align: top;\n",
       "    }\n",
       "\n",
       "    .dataframe thead th {\n",
       "        text-align: right;\n",
       "    }\n",
       "</style>\n",
       "<table border=\"1\" class=\"dataframe\">\n",
       "  <thead>\n",
       "    <tr style=\"text-align: right;\">\n",
       "      <th></th>\n",
       "      <th>Area of residence</th>\n",
       "      <th>Tests or diagnoses</th>\n",
       "      <th>Gender identity</th>\n",
       "      <th>Age</th>\n",
       "      <th>2015</th>\n",
       "      <th>2016</th>\n",
       "      <th>2017</th>\n",
       "      <th>2018</th>\n",
       "      <th>2019</th>\n",
       "      <th>2020</th>\n",
       "      <th>2021</th>\n",
       "      <th>2022</th>\n",
       "      <th>2023</th>\n",
       "      <th>2024</th>\n",
       "    </tr>\n",
       "  </thead>\n",
       "  <tbody>\n",
       "    <tr>\n",
       "      <th>10</th>\n",
       "      <td>England</td>\n",
       "      <td>Diagnoses</td>\n",
       "      <td>Total</td>\n",
       "      <td>15 to 19</td>\n",
       "      <td>52952</td>\n",
       "      <td>50852</td>\n",
       "      <td>49630</td>\n",
       "      <td>50470</td>\n",
       "      <td>50924</td>\n",
       "      <td>32874</td>\n",
       "      <td>29756</td>\n",
       "      <td>38616</td>\n",
       "      <td>36783</td>\n",
       "      <td>29886</td>\n",
       "    </tr>\n",
       "    <tr>\n",
       "      <th>11</th>\n",
       "      <td>England</td>\n",
       "      <td>Diagnoses</td>\n",
       "      <td>Total</td>\n",
       "      <td>20 to 24</td>\n",
       "      <td>77743</td>\n",
       "      <td>78973</td>\n",
       "      <td>79274</td>\n",
       "      <td>82903</td>\n",
       "      <td>84314</td>\n",
       "      <td>60280</td>\n",
       "      <td>56202</td>\n",
       "      <td>69948</td>\n",
       "      <td>67225</td>\n",
       "      <td>55871</td>\n",
       "    </tr>\n",
       "    <tr>\n",
       "      <th>12</th>\n",
       "      <td>England</td>\n",
       "      <td>Diagnoses</td>\n",
       "      <td>Total</td>\n",
       "      <td>15 to 24</td>\n",
       "      <td>130695</td>\n",
       "      <td>129825</td>\n",
       "      <td>128904</td>\n",
       "      <td>133373</td>\n",
       "      <td>135238</td>\n",
       "      <td>93154</td>\n",
       "      <td>85958</td>\n",
       "      <td>108564</td>\n",
       "      <td>104008</td>\n",
       "      <td>85757</td>\n",
       "    </tr>\n",
       "  </tbody>\n",
       "</table>\n",
       "</div>"
      ],
      "text/plain": [
       "   Area of residence Tests or diagnoses Gender identity       Age    2015  \\\n",
       "10           England          Diagnoses           Total  15 to 19   52952   \n",
       "11           England          Diagnoses           Total  20 to 24   77743   \n",
       "12           England          Diagnoses           Total  15 to 24  130695   \n",
       "\n",
       "      2016    2017    2018    2019   2020   2021    2022    2023   2024  \n",
       "10   50852   49630   50470   50924  32874  29756   38616   36783  29886  \n",
       "11   78973   79274   82903   84314  60280  56202   69948   67225  55871  \n",
       "12  129825  128904  133373  135238  93154  85958  108564  104008  85757  "
      ]
     },
     "execution_count": 161,
     "metadata": {},
     "output_type": "execute_result"
    }
   ],
   "source": [
    "# Convert 2015 to 2024 columns to float types from object and integer types\n",
    "\n",
    "chlamydia_df['2015'] = chlamydia_df['2015'].astype(int) # Convert '2015' column to int type\n",
    "chlamydia_df['2016'] = chlamydia_df['2016'].astype(int) # Convert '2016' column to int type\n",
    "chlamydia_df['2017'] = chlamydia_df['2017'].astype(int) # Convert '2017' column to int type\n",
    "chlamydia_df['2018'] = chlamydia_df['2018'].astype(int) # Convert '2018' column to int type\n",
    "chlamydia_df['2019'] = chlamydia_df['2019'].astype(int) # Convert '2019' column to int type\n",
    "chlamydia_df['2020'] = chlamydia_df['2020'].fillna(0).astype(str).str.replace(',', '').astype(int) # Fill NaN with 0, then convert to int\n",
    "chlamydia_df['2021'] = chlamydia_df['2021'].fillna(0).astype(str).str.replace(',', '').astype(int) # Fill NaN with 0, then convert to int\n",
    "chlamydia_df['2022'] = chlamydia_df['2022'].astype(int) # Convert '2022' column to int type\n",
    "chlamydia_df['2023'] = chlamydia_df['2023'].astype(int) # Convert '2023' column to int type\n",
    "chlamydia_df['2024'] = chlamydia_df['2024'].astype(int) # Convert '2024' column to int type\n",
    "\n",
    "chlamydia_df.info()\n",
    "chlamydia_df"
   ]
  },
  {
   "cell_type": "code",
   "execution_count": 162,
   "id": "20cbb2e5",
   "metadata": {},
   "outputs": [],
   "source": [
    "# Data Cleaning and Formatting for Chlamydia Dataset is Complete"
   ]
  },
  {
   "cell_type": "markdown",
   "id": "468754a2",
   "metadata": {},
   "source": [
    "\n",
    "## Plotting graphs\n",
    "\n",
    "Plotting the graphs using cleaned data from the previous sections.\n"
   ]
  },
  {
   "cell_type": "markdown",
   "id": "9c166156",
   "metadata": {},
   "source": [
    "#### Rainfall Data Using Matplotlib Troubleshooting\n",
    "\n",
    "Toubleshoot errors in weather data due to missed steps in previous data cleaning."
   ]
  },
  {
   "cell_type": "code",
   "execution_count": 163,
   "id": "65e9a95a",
   "metadata": {},
   "outputs": [
    {
     "data": {
      "image/png": "[encoded data removed]",
      "text/plain": [
       "<Figure size 1000x600 with 1 Axes>"
      ]
     },
     "metadata": {},
     "output_type": "display_data"
    }
   ],
   "source": [
    "# Plotting the rainfall data to visualise trends\n",
    "\n",
    "x_rainfall = rainfall_df['Year'] # Extract the 'Year' column from the Rainfall DataFrame\n",
    "y_rainfall = rainfall_df['Annual Rainfall (mm)'] # Extract the 'Annual Rainfall (mm)' column from the Rainfall DataFrame\n",
    "\n",
    "fig, ax = plt.subplots(figsize=(10, 6)) # Create a figure and axis for the plot\n",
    "ax.plot(x_rainfall, y_rainfall, marker='o', linestyle='-', color='blue') # Plot the rainfall data with markers and a line\n",
    "ax.set_title('Annual Rainfall in England (2015-2024)', fontsize=16) # Set the title of the plot\n",
    "ax.set_xlabel('Year', fontsize=14) # Set the x-axis label\n",
    "ax.set_ylabel('Annual Rainfall (mm)', fontsize=14) # Set the y-axis label\n",
    "\n",
    "plt.show() # Display the plot"
   ]
  },
  {
   "cell_type": "code",
   "execution_count": 164,
   "id": "62b53672",
   "metadata": {},
   "outputs": [],
   "source": [
    "# not plotting data correctly, need to check the data types and ensure they are compatible for plotting"
   ]
  },
  {
   "cell_type": "code",
   "execution_count": 165,
   "id": "a581e739",
   "metadata": {},
   "outputs": [
    {
     "name": "stdout",
     "output_type": "stream",
     "text": [
      "<class 'pandas.core.frame.DataFrame'>\n",
      "Index: 10 entries, 179 to 188\n",
      "Data columns (total 2 columns):\n",
      " #   Column                Non-Null Count  Dtype  \n",
      "---  ------                --------------  -----  \n",
      " 0   Year                  10 non-null     int32  \n",
      " 1   Annual Rainfall (mm)  10 non-null     float64\n",
      "dtypes: float64(1), int32(1)\n",
      "memory usage: 200.0 bytes\n"
     ]
    }
   ],
   "source": [
    "rainfall_df.info() # Display information about the Rainfall DataFrame, including data types and non-null counts"
   ]
  },
  {
   "cell_type": "code",
   "execution_count": 166,
   "id": "a92193d2",
   "metadata": {},
   "outputs": [
    {
     "name": "stdout",
     "output_type": "stream",
     "text": [
      "<class 'pandas.core.frame.DataFrame'>\n",
      "Index: 10 entries, 179 to 188\n",
      "Data columns (total 2 columns):\n",
      " #   Column                Non-Null Count  Dtype  \n",
      "---  ------                --------------  -----  \n",
      " 0   Year                  10 non-null     int32  \n",
      " 1   Annual Rainfall (mm)  10 non-null     float64\n",
      "dtypes: float64(1), int32(1)\n",
      "memory usage: 200.0 bytes\n"
     ]
    },
    {
     "name": "stderr",
     "output_type": "stream",
     "text": [
      "/var/folders/zh/7q9zzj496zl6c_xx_q5_21lm0000gn/T/ipykernel_52654/2928888121.py:3: SettingWithCopyWarning:\n",
      "\n",
      "\n",
      "A value is trying to be set on a copy of a slice from a DataFrame.\n",
      "Try using .loc[row_indexer,col_indexer] = value instead\n",
      "\n",
      "See the caveats in the documentation: https://pandas.pydata.org/pandas-docs/stable/user_guide/indexing.html#returning-a-view-versus-a-copy\n",
      "\n"
     ]
    }
   ],
   "source": [
    "# Updating the rainfall_df to ensure the data types are correct for plotting\n",
    "\n",
    "rainfall_df['Annual Rainfall (mm)'] = rainfall_df['Annual Rainfall (mm)'].astype(float) # Ensure 'Annual Rainfall (mm)' is of type float\n",
    "rainfall_df.info() "
   ]
  },
  {
   "cell_type": "code",
   "execution_count": 167,
   "id": "a4bf4ab0",
   "metadata": {},
   "outputs": [],
   "source": [
    "# Rainfall data type is now correct and visualises trends effectively"
   ]
  },
  {
   "cell_type": "markdown",
   "id": "b7b30c36",
   "metadata": {},
   "source": [
    "\n",
    "### Plotting of Rainfall and Sunshine Data Using Matplotlib\n",
    "\n",
    "Successful plotting of weather data."
   ]
  },
  {
   "cell_type": "code",
   "execution_count": 168,
   "id": "550e55cf",
   "metadata": {},
   "outputs": [
    {
     "data": {
      "image/png": "[encoded data removed]",
      "text/plain": [
       "<Figure size 1000x600 with 1 Axes>"
      ]
     },
     "metadata": {},
     "output_type": "display_data"
    },
    {
     "data": {
      "image/png": "[encoded data removed]",
      "text/plain": [
       "<Figure size 1000x600 with 1 Axes>"
      ]
     },
     "metadata": {},
     "output_type": "display_data"
    }
   ],
   "source": [
    "# Replotting rainfall data to visualise trends\n",
    "\n",
    "x_rainfall = rainfall_df['Year'] # Extract the 'Year' column from the Rainfall DataFrame\n",
    "y_rainfall = rainfall_df['Annual Rainfall (mm)'] # Extract the 'Annual Rainfall (mm)' column from the Rainfall DataFrame\n",
    "fig, ax = plt.subplots(figsize=(10, 6)) # Create a figure and axis for the plot\n",
    "ax.plot(x_rainfall, y_rainfall, linestyle='-', color='blue') # Plot the rainfall data with markers and a line\n",
    "ax.set_title('Annual Rainfall in England (2015-2024)', fontsize=16) # Set the title of the plot\n",
    "ax.set_xticks(rainfall_df['Year'])\n",
    "ax.set_xlabel('Year', fontsize=14) # Set the x-axis label\n",
    "ax.set_ylabel('Annual Rainfall (mm)', fontsize=14) # Set the y-axis label\n",
    "ax.legend(['Annual Rainfall'], loc='upper left') # Add a legend to the plot for clarity \n",
    "\n",
    " # Plotting the sunshine data to visualise trends\n",
    "\n",
    "x_sunshine = sunshine_df['Year'] # Extract the 'Year' column from the Sunshine DataFrame\n",
    "y_sunshine = sunshine_df['Annual Sunshine Hours'] # Extract the 'Annual Sunshine Hours' column from the Sunshine DataFrame\n",
    "fig, ax = plt.subplots(figsize=(10, 6)) # Create a figure and axis for the plot\n",
    "ax.plot(x_sunshine, y_sunshine, linestyle='-', color='orange') # Plot the sunshine data with markers and a line\n",
    "ax.set_title('Annual Sunshine Hours in England (2015-2024)', fontsize=16) # Set the title of the plot\n",
    "ax.set_xlabel('Year', fontsize=14) # Set the x-axis label\n",
    "ax.set_ylabel('Annual Sunshine Hours', fontsize=14) # Set the y-axis label  \n",
    "ax.set_xticks(sunshine_df['Year']) # Set the x-ticks to the years in the Sunshine DataFrame\n",
    "ax.legend(['Annual Sunshine Hours'], loc='upper left') # Add a legend to the plot for clarity\n",
    "\n",
    "plt.show() # Display the plot"
   ]
  },
  {
   "cell_type": "code",
   "execution_count": 169,
   "id": "1e6fbc00",
   "metadata": {},
   "outputs": [],
   "source": [
    "# Plotting of rainfall and sunshing data is now correct and visualises trends effectively"
   ]
  },
  {
   "cell_type": "markdown",
   "id": "9607cd81",
   "metadata": {},
   "source": [
    "### Plotting of Chlamydia Data Using Matplotlib\n",
    "\n",
    "Successful plotting of Chlamydia data."
   ]
  },
  {
   "cell_type": "code",
   "execution_count": 170,
   "id": "1e045e67",
   "metadata": {},
   "outputs": [
    {
     "data": {
      "text/plain": [
       "[12    15 to 24\n",
       " Name: Age, dtype: object]"
      ]
     },
     "execution_count": 170,
     "metadata": {},
     "output_type": "execute_result"
    }
   ],
   "source": [
    "y_chlamydia = [chlamydia_df['Age'].iloc[2: ]]  # Extract the 'Age' column for the age group 15-24\n",
    "y_chlamydia"
   ]
  },
  {
   "cell_type": "code",
   "execution_count": 171,
   "id": "74f7f03a",
   "metadata": {},
   "outputs": [],
   "source": [
    "sub_chlamydia = chlamydia_df[['2015', '2016', '2017', '2018', '2019', '2020', '2021', '2022', '2023', '2024']]"
   ]
  },
  {
   "cell_type": "code",
   "execution_count": 172,
   "id": "3db75cba",
   "metadata": {},
   "outputs": [
    {
     "data": {
      "text/html": [
       "<div>\n",
       "<style scoped>\n",
       "    .dataframe tbody tr th:only-of-type {\n",
       "        vertical-align: middle;\n",
       "    }\n",
       "\n",
       "    .dataframe tbody tr th {\n",
       "        vertical-align: top;\n",
       "    }\n",
       "\n",
       "    .dataframe thead th {\n",
       "        text-align: right;\n",
       "    }\n",
       "</style>\n",
       "<table border=\"1\" class=\"dataframe\">\n",
       "  <thead>\n",
       "    <tr style=\"text-align: right;\">\n",
       "      <th></th>\n",
       "      <th>2015</th>\n",
       "      <th>2016</th>\n",
       "      <th>2017</th>\n",
       "      <th>2018</th>\n",
       "      <th>2019</th>\n",
       "      <th>2020</th>\n",
       "      <th>2021</th>\n",
       "      <th>2022</th>\n",
       "      <th>2023</th>\n",
       "      <th>2024</th>\n",
       "    </tr>\n",
       "  </thead>\n",
       "  <tbody>\n",
       "    <tr>\n",
       "      <th>10</th>\n",
       "      <td>52952</td>\n",
       "      <td>50852</td>\n",
       "      <td>49630</td>\n",
       "      <td>50470</td>\n",
       "      <td>50924</td>\n",
       "      <td>32874</td>\n",
       "      <td>29756</td>\n",
       "      <td>38616</td>\n",
       "      <td>36783</td>\n",
       "      <td>29886</td>\n",
       "    </tr>\n",
       "    <tr>\n",
       "      <th>11</th>\n",
       "      <td>77743</td>\n",
       "      <td>78973</td>\n",
       "      <td>79274</td>\n",
       "      <td>82903</td>\n",
       "      <td>84314</td>\n",
       "      <td>60280</td>\n",
       "      <td>56202</td>\n",
       "      <td>69948</td>\n",
       "      <td>67225</td>\n",
       "      <td>55871</td>\n",
       "    </tr>\n",
       "    <tr>\n",
       "      <th>12</th>\n",
       "      <td>130695</td>\n",
       "      <td>129825</td>\n",
       "      <td>128904</td>\n",
       "      <td>133373</td>\n",
       "      <td>135238</td>\n",
       "      <td>93154</td>\n",
       "      <td>85958</td>\n",
       "      <td>108564</td>\n",
       "      <td>104008</td>\n",
       "      <td>85757</td>\n",
       "    </tr>\n",
       "  </tbody>\n",
       "</table>\n",
       "</div>"
      ],
      "text/plain": [
       "      2015    2016    2017    2018    2019   2020   2021    2022    2023  \\\n",
       "10   52952   50852   49630   50470   50924  32874  29756   38616   36783   \n",
       "11   77743   78973   79274   82903   84314  60280  56202   69948   67225   \n",
       "12  130695  129825  128904  133373  135238  93154  85958  108564  104008   \n",
       "\n",
       "     2024  \n",
       "10  29886  \n",
       "11  55871  \n",
       "12  85757  "
      ]
     },
     "execution_count": 172,
     "metadata": {},
     "output_type": "execute_result"
    }
   ],
   "source": [
    "sub_chlamydia"
   ]
  },
  {
   "cell_type": "code",
   "execution_count": 173,
   "id": "7f090156",
   "metadata": {},
   "outputs": [
    {
     "data": {
      "text/plain": [
       "Index(['2015', '2016', '2017', '2018', '2019', '2020', '2021', '2022', '2023',\n",
       "       '2024'],\n",
       "      dtype='object')"
      ]
     },
     "execution_count": 173,
     "metadata": {},
     "output_type": "execute_result"
    }
   ],
   "source": [
    "y_axis = sub_chlamydia.iloc[2: ]  # Extract the 'Age' column for the age group 15-24\n",
    "y_axis.columns "
   ]
  },
  {
   "cell_type": "code",
   "execution_count": 174,
   "id": "c5b1af63",
   "metadata": {},
   "outputs": [
    {
     "data": {
      "image/png": "[encoded data removed]",
      "text/plain": [
       "<Figure size 1000x600 with 1 Axes>"
      ]
     },
     "metadata": {},
     "output_type": "display_data"
    }
   ],
   "source": [
    "# Plotting the Chlamydia data to visualise trends\n",
    "\n",
    "x_chlamydia = [str(year) for year in range(2015, 2025)]  # List of years as strings\n",
    "y_chlamydia = y_axis.iloc[0].values  # Extract the values for the age group 15-24\n",
    "\n",
    "fig, ax = plt.subplots(figsize=(10, 6)) # Create a figure and axis for the plot\n",
    "# ax.plot( # use this for line plot\n",
    "ax.bar(\n",
    "    x_chlamydia,\n",
    "    y_chlamydia,\n",
    "    # linestyle='-',\n",
    "    color='green',\n",
    ") # Plot the Chlamydia data with markers and a line\n",
    "ax.set_title('Chlamydia Diagnoses in England (2015-2024)', fontsize=16) # Set the title of the plot\n",
    "ax.set_xlabel('Year', fontsize=14) # Set the x-axis label\n",
    "ax.set_ylabel('Chlamydia Diagnoses', fontsize=14) # Set the y-axis label  \n",
    "ax.legend(['15-24 Age Group'], loc='upper left') # Add a legend to the plot for clarity \n",
    "\n",
    "plt.xticks(rotation=45) # Rotate x-axis labels for better readability\n",
    "# ax.set_xticks(list(range(sunshine_df['Year'].min(), sunshine_df['Year'].max())))\n",
    "plt.tight_layout() # Adjust layout to prevent overlap of labels\n",
    "plt.show() # Display the plot"
   ]
  },
  {
   "cell_type": "code",
   "execution_count": 175,
   "id": "8a4dfb9d",
   "metadata": {},
   "outputs": [],
   "source": [
    "# Plotting of Chlamydia data is now correct and visualises trends effectively"
   ]
  },
  {
   "cell_type": "markdown",
   "id": "d69b1ec0",
   "metadata": {},
   "source": [
    "### Plotting of Chlamydia Data Using Plotly\n",
    "\n",
    "Successful plotting of Chlamydia data by Age groups. Allowing for better understanding and visualisation of which age group within the 15 -24 range is most at risk of Chlamydia at risk of diagnosis."
   ]
  },
  {
   "cell_type": "code",
   "execution_count": 176,
   "id": "761371f6",
   "metadata": {},
   "outputs": [
    {
     "data": {
      "application/vnd.plotly.v1+json": {
       "config": {
        "plotlyServerURL": "https://plot.ly"
       },
       "data": [
        {
         "hovertemplate": "Age=15 to 19<br>Year=%{x}<br>Number of Diagnoses=%{y}<extra></extra>",
         "legendgroup": "15 to 19",
         "marker": {
          "color": "#636efa",
          "pattern": {
           "shape": ""
          }
         },
         "name": "15 to 19",
         "orientation": "v",
         "showlegend": true,
         "textposition": "auto",
         "type": "bar",
         "x": [
          "2015",
          "2016",
          "2017",
          "2018",
          "2019",
          "2020",
          "2021",
          "2022",
          "2023",
          "2024"
         ],
         "xaxis": "x",
         "y": {
          "bdata": "2M4AAKTGAADewQAAJsUAAOzGAABqgAAAPHQAANiWAACvjwAAvnQAAA==",
          "dtype": "i4"
         },
         "yaxis": "y"
        },
        {
         "hovertemplate": "Age=20 to 24<br>Year=%{x}<br>Number of Diagnoses=%{y}<extra></extra>",
         "legendgroup": "20 to 24",
         "marker": {
          "color": "#EF553B",
          "pattern": {
           "shape": ""
          }
         },
         "name": "20 to 24",
         "orientation": "v",
         "showlegend": true,
         "textposition": "auto",
         "type": "bar",
         "x": [
          "2015",
          "2016",
          "2017",
          "2018",
          "2019",
          "2020",
          "2021",
          "2022",
          "2023",
          "2024"
         ],
         "xaxis": "x",
         "y": {
          "bdata": "ry8BAH00AQCqNQEA10MBAFpJAQB46wAAitsAADwRAQCZBgEAP9oAAA==",
          "dtype": "i4"
         },
         "yaxis": "y"
        }
       ],
       "layout": {
        "barmode": "relative",
        "legend": {
         "title": {
          "text": "Age"
         },
         "tracegroupgap": 0
        },
        "template": {
         "data": {
          "bar": [
           {
            "error_x": {
             "color": "#2a3f5f"
            },
            "error_y": {
             "color": "#2a3f5f"
            },
            "marker": {
             "line": {
              "color": "#E5ECF6",
              "width": 0.5
             },
             "pattern": {
              "fillmode": "overlay",
              "size": 10,
              "solidity": 0.2
             }
            },
            "type": "bar"
           }
          ],
          "barpolar": [
           {
            "marker": {
             "line": {
              "color": "#E5ECF6",
              "width": 0.5
             },
             "pattern": {
              "fillmode": "overlay",
              "size": 10,
              "solidity": 0.2
             }
            },
            "type": "barpolar"
           }
          ],
          "carpet": [
           {
            "aaxis": {
             "endlinecolor": "#2a3f5f",
             "gridcolor": "white",
             "linecolor": "white",
             "minorgridcolor": "white",
             "startlinecolor": "#2a3f5f"
            },
            "baxis": {
             "endlinecolor": "#2a3f5f",
             "gridcolor": "white",
             "linecolor": "white",
             "minorgridcolor": "white",
             "startlinecolor": "#2a3f5f"
            },
            "type": "carpet"
           }
          ],
          "choropleth": [
           {
            "colorbar": {
             "outlinewidth": 0,
             "ticks": ""
            },
            "type": "choropleth"
           }
          ],
          "contour": [
           {
            "colorbar": {
             "outlinewidth": 0,
             "ticks": ""
            },
            "colorscale": [
             [
              0,
              "#0d0887"
             ],
             [
              0.1111111111111111,
              "#46039f"
             ],
             [
              0.2222222222222222,
              "#7201a8"
             ],
             [
              0.3333333333333333,
              "#9c179e"
             ],
             [
              0.4444444444444444,
              "#bd3786"
             ],
             [
              0.5555555555555556,
              "#d8576b"
             ],
             [
              0.6666666666666666,
              "#ed7953"
             ],
             [
              0.7777777777777778,
              "#fb9f3a"
             ],
             [
              0.8888888888888888,
              "#fdca26"
             ],
             [
              1,
              "#f0f921"
             ]
            ],
            "type": "contour"
           }
          ],
          "contourcarpet": [
           {
            "colorbar": {
             "outlinewidth": 0,
             "ticks": ""
            },
            "type": "contourcarpet"
           }
          ],
          "heatmap": [
           {
            "colorbar": {
             "outlinewidth": 0,
             "ticks": ""
            },
            "colorscale": [
             [
              0,
              "#0d0887"
             ],
             [
              0.1111111111111111,
              "#46039f"
             ],
             [
              0.2222222222222222,
              "#7201a8"
             ],
             [
              0.3333333333333333,
              "#9c179e"
             ],
             [
              0.4444444444444444,
              "#bd3786"
             ],
             [
              0.5555555555555556,
              "#d8576b"
             ],
             [
              0.6666666666666666,
              "#ed7953"
             ],
             [
              0.7777777777777778,
              "#fb9f3a"
             ],
             [
              0.8888888888888888,
              "#fdca26"
             ],
             [
              1,
              "#f0f921"
             ]
            ],
            "type": "heatmap"
           }
          ],
          "histogram": [
           {
            "marker": {
             "pattern": {
              "fillmode": "overlay",
              "size": 10,
              "solidity": 0.2
             }
            },
            "type": "histogram"
           }
          ],
          "histogram2d": [
           {
            "colorbar": {
             "outlinewidth": 0,
             "ticks": ""
            },
            "colorscale": [
             [
              0,
              "#0d0887"
             ],
             [
              0.1111111111111111,
              "#46039f"
             ],
             [
              0.2222222222222222,
              "#7201a8"
             ],
             [
              0.3333333333333333,
              "#9c179e"
             ],
             [
              0.4444444444444444,
              "#bd3786"
             ],
             [
              0.5555555555555556,
              "#d8576b"
             ],
             [
              0.6666666666666666,
              "#ed7953"
             ],
             [
              0.7777777777777778,
              "#fb9f3a"
             ],
             [
              0.8888888888888888,
              "#fdca26"
             ],
             [
              1,
              "#f0f921"
             ]
            ],
            "type": "histogram2d"
           }
          ],
          "histogram2dcontour": [
           {
            "colorbar": {
             "outlinewidth": 0,
             "ticks": ""
            },
            "colorscale": [
             [
              0,
              "#0d0887"
             ],
             [
              0.1111111111111111,
              "#46039f"
             ],
             [
              0.2222222222222222,
              "#7201a8"
             ],
             [
              0.3333333333333333,
              "#9c179e"
             ],
             [
              0.4444444444444444,
              "#bd3786"
             ],
             [
              0.5555555555555556,
              "#d8576b"
             ],
             [
              0.6666666666666666,
              "#ed7953"
             ],
             [
              0.7777777777777778,
              "#fb9f3a"
             ],
             [
              0.8888888888888888,
              "#fdca26"
             ],
             [
              1,
              "#f0f921"
             ]
            ],
            "type": "histogram2dcontour"
           }
          ],
          "mesh3d": [
           {
            "colorbar": {
             "outlinewidth": 0,
             "ticks": ""
            },
            "type": "mesh3d"
           }
          ],
          "parcoords": [
           {
            "line": {
             "colorbar": {
              "outlinewidth": 0,
              "ticks": ""
             }
            },
            "type": "parcoords"
           }
          ],
          "pie": [
           {
            "automargin": true,
            "type": "pie"
           }
          ],
          "scatter": [
           {
            "fillpattern": {
             "fillmode": "overlay",
             "size": 10,
             "solidity": 0.2
            },
            "type": "scatter"
           }
          ],
          "scatter3d": [
           {
            "line": {
             "colorbar": {
              "outlinewidth": 0,
              "ticks": ""
             }
            },
            "marker": {
             "colorbar": {
              "outlinewidth": 0,
              "ticks": ""
             }
            },
            "type": "scatter3d"
           }
          ],
          "scattercarpet": [
           {
            "marker": {
             "colorbar": {
              "outlinewidth": 0,
              "ticks": ""
             }
            },
            "type": "scattercarpet"
           }
          ],
          "scattergeo": [
           {
            "marker": {
             "colorbar": {
              "outlinewidth": 0,
              "ticks": ""
             }
            },
            "type": "scattergeo"
           }
          ],
          "scattergl": [
           {
            "marker": {
             "colorbar": {
              "outlinewidth": 0,
              "ticks": ""
             }
            },
            "type": "scattergl"
           }
          ],
          "scattermap": [
           {
            "marker": {
             "colorbar": {
              "outlinewidth": 0,
              "ticks": ""
             }
            },
            "type": "scattermap"
           }
          ],
          "scattermapbox": [
           {
            "marker": {
             "colorbar": {
              "outlinewidth": 0,
              "ticks": ""
             }
            },
            "type": "scattermapbox"
           }
          ],
          "scatterpolar": [
           {
            "marker": {
             "colorbar": {
              "outlinewidth": 0,
              "ticks": ""
             }
            },
            "type": "scatterpolar"
           }
          ],
          "scatterpolargl": [
           {
            "marker": {
             "colorbar": {
              "outlinewidth": 0,
              "ticks": ""
             }
            },
            "type": "scatterpolargl"
           }
          ],
          "scatterternary": [
           {
            "marker": {
             "colorbar": {
              "outlinewidth": 0,
              "ticks": ""
             }
            },
            "type": "scatterternary"
           }
          ],
          "surface": [
           {
            "colorbar": {
             "outlinewidth": 0,
             "ticks": ""
            },
            "colorscale": [
             [
              0,
              "#0d0887"
             ],
             [
              0.1111111111111111,
              "#46039f"
             ],
             [
              0.2222222222222222,
              "#7201a8"
             ],
             [
              0.3333333333333333,
              "#9c179e"
             ],
             [
              0.4444444444444444,
              "#bd3786"
             ],
             [
              0.5555555555555556,
              "#d8576b"
             ],
             [
              0.6666666666666666,
              "#ed7953"
             ],
             [
              0.7777777777777778,
              "#fb9f3a"
             ],
             [
              0.8888888888888888,
              "#fdca26"
             ],
             [
              1,
              "#f0f921"
             ]
            ],
            "type": "surface"
           }
          ],
          "table": [
           {
            "cells": {
             "fill": {
              "color": "#EBF0F8"
             },
             "line": {
              "color": "white"
             }
            },
            "header": {
             "fill": {
              "color": "#C8D4E3"
             },
             "line": {
              "color": "white"
             }
            },
            "type": "table"
           }
          ]
         },
         "layout": {
          "annotationdefaults": {
           "arrowcolor": "#2a3f5f",
           "arrowhead": 0,
           "arrowwidth": 1
          },
          "autotypenumbers": "strict",
          "coloraxis": {
           "colorbar": {
            "outlinewidth": 0,
            "ticks": ""
           }
          },
          "colorscale": {
           "diverging": [
            [
             0,
             "#8e0152"
            ],
            [
             0.1,
             "#c51b7d"
            ],
            [
             0.2,
             "#de77ae"
            ],
            [
             0.3,
             "#f1b6da"
            ],
            [
             0.4,
             "#fde0ef"
            ],
            [
             0.5,
             "#f7f7f7"
            ],
            [
             0.6,
             "#e6f5d0"
            ],
            [
             0.7,
             "#b8e186"
            ],
            [
             0.8,
             "#7fbc41"
            ],
            [
             0.9,
             "#4d9221"
            ],
            [
             1,
             "#276419"
            ]
           ],
           "sequential": [
            [
             0,
             "#0d0887"
            ],
            [
             0.1111111111111111,
             "#46039f"
            ],
            [
             0.2222222222222222,
             "#7201a8"
            ],
            [
             0.3333333333333333,
             "#9c179e"
            ],
            [
             0.4444444444444444,
             "#bd3786"
            ],
            [
             0.5555555555555556,
             "#d8576b"
            ],
            [
             0.6666666666666666,
             "#ed7953"
            ],
            [
             0.7777777777777778,
             "#fb9f3a"
            ],
            [
             0.8888888888888888,
             "#fdca26"
            ],
            [
             1,
             "#f0f921"
            ]
           ],
           "sequentialminus": [
            [
             0,
             "#0d0887"
            ],
            [
             0.1111111111111111,
             "#46039f"
            ],
            [
             0.2222222222222222,
             "#7201a8"
            ],
            [
             0.3333333333333333,
             "#9c179e"
            ],
            [
             0.4444444444444444,
             "#bd3786"
            ],
            [
             0.5555555555555556,
             "#d8576b"
            ],
            [
             0.6666666666666666,
             "#ed7953"
            ],
            [
             0.7777777777777778,
             "#fb9f3a"
            ],
            [
             0.8888888888888888,
             "#fdca26"
            ],
            [
             1,
             "#f0f921"
            ]
           ]
          },
          "colorway": [
           "#636efa",
           "#EF553B",
           "#00cc96",
           "#ab63fa",
           "#FFA15A",
           "#19d3f3",
           "#FF6692",
           "#B6E880",
           "#FF97FF",
           "#FECB52"
          ],
          "font": {
           "color": "#2a3f5f"
          },
          "geo": {
           "bgcolor": "white",
           "lakecolor": "white",
           "landcolor": "#E5ECF6",
           "showlakes": true,
           "showland": true,
           "subunitcolor": "white"
          },
          "hoverlabel": {
           "align": "left"
          },
          "hovermode": "closest",
          "mapbox": {
           "style": "light"
          },
          "paper_bgcolor": "white",
          "plot_bgcolor": "#E5ECF6",
          "polar": {
           "angularaxis": {
            "gridcolor": "white",
            "linecolor": "white",
            "ticks": ""
           },
           "bgcolor": "#E5ECF6",
           "radialaxis": {
            "gridcolor": "white",
            "linecolor": "white",
            "ticks": ""
           }
          },
          "scene": {
           "xaxis": {
            "backgroundcolor": "#E5ECF6",
            "gridcolor": "white",
            "gridwidth": 2,
            "linecolor": "white",
            "showbackground": true,
            "ticks": "",
            "zerolinecolor": "white"
           },
           "yaxis": {
            "backgroundcolor": "#E5ECF6",
            "gridcolor": "white",
            "gridwidth": 2,
            "linecolor": "white",
            "showbackground": true,
            "ticks": "",
            "zerolinecolor": "white"
           },
           "zaxis": {
            "backgroundcolor": "#E5ECF6",
            "gridcolor": "white",
            "gridwidth": 2,
            "linecolor": "white",
            "showbackground": true,
            "ticks": "",
            "zerolinecolor": "white"
           }
          },
          "shapedefaults": {
           "line": {
            "color": "#2a3f5f"
           }
          },
          "ternary": {
           "aaxis": {
            "gridcolor": "white",
            "linecolor": "white",
            "ticks": ""
           },
           "baxis": {
            "gridcolor": "white",
            "linecolor": "white",
            "ticks": ""
           },
           "bgcolor": "#E5ECF6",
           "caxis": {
            "gridcolor": "white",
            "linecolor": "white",
            "ticks": ""
           }
          },
          "title": {
           "x": 0.05
          },
          "xaxis": {
           "automargin": true,
           "gridcolor": "white",
           "linecolor": "white",
           "ticks": "",
           "title": {
            "standoff": 15
           },
           "zerolinecolor": "white",
           "zerolinewidth": 2
          },
          "yaxis": {
           "automargin": true,
           "gridcolor": "white",
           "linecolor": "white",
           "ticks": "",
           "title": {
            "standoff": 15
           },
           "zerolinecolor": "white",
           "zerolinewidth": 2
          }
         }
        },
        "title": {
         "text": "Chlamydia Diagnoses (Ages 15–24) in England (2015–2024)"
        },
        "xaxis": {
         "anchor": "y",
         "domain": [
          0,
          1
         ],
         "title": {
          "text": "Year"
         }
        },
        "yaxis": {
         "anchor": "x",
         "domain": [
          0,
          1
         ],
         "title": {
          "text": "Number of Diagnoses"
         }
        }
       }
      }
     },
     "metadata": {},
     "output_type": "display_data"
    }
   ],
   "source": [
    "# Visualising th Chlamydia Diagnoses by Age Groups using a bar chart.\n",
    "\n",
    "# Select the two relevant age groups\n",
    "age_df = chlamydia_df.loc[[10, 11], ['Age', '2015', '2016', '2017', '2018', '2019',\n",
    "                                     '2020', '2021', '2022', '2023', '2024']]\n",
    "\n",
    "# Melt into long format\n",
    "long_df = age_df.melt(id_vars='Age', var_name='Year', value_name='Diagnoses')\n",
    "\n",
    "# Remove commas from numbers and convert to numeric\n",
    "long_df['Diagnoses'] = pd.to_numeric(long_df['Diagnoses'].astype(str).str.replace(',', ''), errors='coerce')\n",
    "\n",
    "# Plot\n",
    "fig = px.bar(long_df, x='Year', y='Diagnoses', color='Age',\n",
    "             title=\"Chlamydia Diagnoses (Ages 15–24) in England (2015–2024)\",\n",
    "             labels={'Diagnoses': 'Number of Diagnoses'})\n",
    "fig.show()"
   ]
  },
  {
   "cell_type": "code",
   "execution_count": 177,
   "id": "116c5053",
   "metadata": {},
   "outputs": [],
   "source": [
    "# To improve clarity, displaying this data in a pie chart will aid in detetmination of which Age Group has a higher diagnostic percentage."
   ]
  },
  {
   "cell_type": "code",
   "execution_count": 178,
   "id": "8189e7d5",
   "metadata": {},
   "outputs": [
    {
     "data": {
      "application/vnd.plotly.v1+json": {
       "config": {
        "plotlyServerURL": "https://plot.ly"
       },
       "data": [
        {
         "labels": [
          "15 to 19",
          "20 to 24"
         ],
         "name": "2015",
         "type": "pie",
         "values": {
          "bdata": "2M4AAK8vAQA=",
          "dtype": "i4"
         },
         "visible": true
        },
        {
         "labels": [
          "15 to 19",
          "20 to 24"
         ],
         "name": "2016",
         "type": "pie",
         "values": {
          "bdata": "pMYAAH00AQA=",
          "dtype": "i4"
         },
         "visible": false
        },
        {
         "labels": [
          "15 to 19",
          "20 to 24"
         ],
         "name": "2017",
         "type": "pie",
         "values": {
          "bdata": "3sEAAKo1AQA=",
          "dtype": "i4"
         },
         "visible": false
        },
        {
         "labels": [
          "15 to 19",
          "20 to 24"
         ],
         "name": "2018",
         "type": "pie",
         "values": {
          "bdata": "JsUAANdDAQA=",
          "dtype": "i4"
         },
         "visible": false
        },
        {
         "labels": [
          "15 to 19",
          "20 to 24"
         ],
         "name": "2019",
         "type": "pie",
         "values": {
          "bdata": "7MYAAFpJAQA=",
          "dtype": "i4"
         },
         "visible": false
        },
        {
         "labels": [
          "15 to 19",
          "20 to 24"
         ],
         "name": "2020",
         "type": "pie",
         "values": {
          "bdata": "aoAAAHjrAAA=",
          "dtype": "i4"
         },
         "visible": false
        },
        {
         "labels": [
          "15 to 19",
          "20 to 24"
         ],
         "name": "2021",
         "type": "pie",
         "values": {
          "bdata": "PHQAAIrbAAA=",
          "dtype": "i4"
         },
         "visible": false
        },
        {
         "labels": [
          "15 to 19",
          "20 to 24"
         ],
         "name": "2022",
         "type": "pie",
         "values": {
          "bdata": "2JYAADwRAQA=",
          "dtype": "i4"
         },
         "visible": false
        },
        {
         "labels": [
          "15 to 19",
          "20 to 24"
         ],
         "name": "2023",
         "type": "pie",
         "values": {
          "bdata": "r48AAJkGAQA=",
          "dtype": "i4"
         },
         "visible": false
        },
        {
         "labels": [
          "15 to 19",
          "20 to 24"
         ],
         "name": "2024",
         "type": "pie",
         "values": {
          "bdata": "vnQAAD/aAAA=",
          "dtype": "i4"
         },
         "visible": false
        }
       ],
       "layout": {
        "template": {
         "data": {
          "bar": [
           {
            "error_x": {
             "color": "#2a3f5f"
            },
            "error_y": {
             "color": "#2a3f5f"
            },
            "marker": {
             "line": {
              "color": "#E5ECF6",
              "width": 0.5
             },
             "pattern": {
              "fillmode": "overlay",
              "size": 10,
              "solidity": 0.2
             }
            },
            "type": "bar"
           }
          ],
          "barpolar": [
           {
            "marker": {
             "line": {
              "color": "#E5ECF6",
              "width": 0.5
             },
             "pattern": {
              "fillmode": "overlay",
              "size": 10,
              "solidity": 0.2
             }
            },
            "type": "barpolar"
           }
          ],
          "carpet": [
           {
            "aaxis": {
             "endlinecolor": "#2a3f5f",
             "gridcolor": "white",
             "linecolor": "white",
             "minorgridcolor": "white",
             "startlinecolor": "#2a3f5f"
            },
            "baxis": {
             "endlinecolor": "#2a3f5f",
             "gridcolor": "white",
             "linecolor": "white",
             "minorgridcolor": "white",
             "startlinecolor": "#2a3f5f"
            },
            "type": "carpet"
           }
          ],
          "choropleth": [
           {
            "colorbar": {
             "outlinewidth": 0,
             "ticks": ""
            },
            "type": "choropleth"
           }
          ],
          "contour": [
           {
            "colorbar": {
             "outlinewidth": 0,
             "ticks": ""
            },
            "colorscale": [
             [
              0,
              "#0d0887"
             ],
             [
              0.1111111111111111,
              "#46039f"
             ],
             [
              0.2222222222222222,
              "#7201a8"
             ],
             [
              0.3333333333333333,
              "#9c179e"
             ],
             [
              0.4444444444444444,
              "#bd3786"
             ],
             [
              0.5555555555555556,
              "#d8576b"
             ],
             [
              0.6666666666666666,
              "#ed7953"
             ],
             [
              0.7777777777777778,
              "#fb9f3a"
             ],
             [
              0.8888888888888888,
              "#fdca26"
             ],
             [
              1,
              "#f0f921"
             ]
            ],
            "type": "contour"
           }
          ],
          "contourcarpet": [
           {
            "colorbar": {
             "outlinewidth": 0,
             "ticks": ""
            },
            "type": "contourcarpet"
           }
          ],
          "heatmap": [
           {
            "colorbar": {
             "outlinewidth": 0,
             "ticks": ""
            },
            "colorscale": [
             [
              0,
              "#0d0887"
             ],
             [
              0.1111111111111111,
              "#46039f"
             ],
             [
              0.2222222222222222,
              "#7201a8"
             ],
             [
              0.3333333333333333,
              "#9c179e"
             ],
             [
              0.4444444444444444,
              "#bd3786"
             ],
             [
              0.5555555555555556,
              "#d8576b"
             ],
             [
              0.6666666666666666,
              "#ed7953"
             ],
             [
              0.7777777777777778,
              "#fb9f3a"
             ],
             [
              0.8888888888888888,
              "#fdca26"
             ],
             [
              1,
              "#f0f921"
             ]
            ],
            "type": "heatmap"
           }
          ],
          "histogram": [
           {
            "marker": {
             "pattern": {
              "fillmode": "overlay",
              "size": 10,
              "solidity": 0.2
             }
            },
            "type": "histogram"
           }
          ],
          "histogram2d": [
           {
            "colorbar": {
             "outlinewidth": 0,
             "ticks": ""
            },
            "colorscale": [
             [
              0,
              "#0d0887"
             ],
             [
              0.1111111111111111,
              "#46039f"
             ],
             [
              0.2222222222222222,
              "#7201a8"
             ],
             [
              0.3333333333333333,
              "#9c179e"
             ],
             [
              0.4444444444444444,
              "#bd3786"
             ],
             [
              0.5555555555555556,
              "#d8576b"
             ],
             [
              0.6666666666666666,
              "#ed7953"
             ],
             [
              0.7777777777777778,
              "#fb9f3a"
             ],
             [
              0.8888888888888888,
              "#fdca26"
             ],
             [
              1,
              "#f0f921"
             ]
            ],
            "type": "histogram2d"
           }
          ],
          "histogram2dcontour": [
           {
            "colorbar": {
             "outlinewidth": 0,
             "ticks": ""
            },
            "colorscale": [
             [
              0,
              "#0d0887"
             ],
             [
              0.1111111111111111,
              "#46039f"
             ],
             [
              0.2222222222222222,
              "#7201a8"
             ],
             [
              0.3333333333333333,
              "#9c179e"
             ],
             [
              0.4444444444444444,
              "#bd3786"
             ],
             [
              0.5555555555555556,
              "#d8576b"
             ],
             [
              0.6666666666666666,
              "#ed7953"
             ],
             [
              0.7777777777777778,
              "#fb9f3a"
             ],
             [
              0.8888888888888888,
              "#fdca26"
             ],
             [
              1,
              "#f0f921"
             ]
            ],
            "type": "histogram2dcontour"
           }
          ],
          "mesh3d": [
           {
            "colorbar": {
             "outlinewidth": 0,
             "ticks": ""
            },
            "type": "mesh3d"
           }
          ],
          "parcoords": [
           {
            "line": {
             "colorbar": {
              "outlinewidth": 0,
              "ticks": ""
             }
            },
            "type": "parcoords"
           }
          ],
          "pie": [
           {
            "automargin": true,
            "type": "pie"
           }
          ],
          "scatter": [
           {
            "fillpattern": {
             "fillmode": "overlay",
             "size": 10,
             "solidity": 0.2
            },
            "type": "scatter"
           }
          ],
          "scatter3d": [
           {
            "line": {
             "colorbar": {
              "outlinewidth": 0,
              "ticks": ""
             }
            },
            "marker": {
             "colorbar": {
              "outlinewidth": 0,
              "ticks": ""
             }
            },
            "type": "scatter3d"
           }
          ],
          "scattercarpet": [
           {
            "marker": {
             "colorbar": {
              "outlinewidth": 0,
              "ticks": ""
             }
            },
            "type": "scattercarpet"
           }
          ],
          "scattergeo": [
           {
            "marker": {
             "colorbar": {
              "outlinewidth": 0,
              "ticks": ""
             }
            },
            "type": "scattergeo"
           }
          ],
          "scattergl": [
           {
            "marker": {
             "colorbar": {
              "outlinewidth": 0,
              "ticks": ""
             }
            },
            "type": "scattergl"
           }
          ],
          "scattermap": [
           {
            "marker": {
             "colorbar": {
              "outlinewidth": 0,
              "ticks": ""
             }
            },
            "type": "scattermap"
           }
          ],
          "scattermapbox": [
           {
            "marker": {
             "colorbar": {
              "outlinewidth": 0,
              "ticks": ""
             }
            },
            "type": "scattermapbox"
           }
          ],
          "scatterpolar": [
           {
            "marker": {
             "colorbar": {
              "outlinewidth": 0,
              "ticks": ""
             }
            },
            "type": "scatterpolar"
           }
          ],
          "scatterpolargl": [
           {
            "marker": {
             "colorbar": {
              "outlinewidth": 0,
              "ticks": ""
             }
            },
            "type": "scatterpolargl"
           }
          ],
          "scatterternary": [
           {
            "marker": {
             "colorbar": {
              "outlinewidth": 0,
              "ticks": ""
             }
            },
            "type": "scatterternary"
           }
          ],
          "surface": [
           {
            "colorbar": {
             "outlinewidth": 0,
             "ticks": ""
            },
            "colorscale": [
             [
              0,
              "#0d0887"
             ],
             [
              0.1111111111111111,
              "#46039f"
             ],
             [
              0.2222222222222222,
              "#7201a8"
             ],
             [
              0.3333333333333333,
              "#9c179e"
             ],
             [
              0.4444444444444444,
              "#bd3786"
             ],
             [
              0.5555555555555556,
              "#d8576b"
             ],
             [
              0.6666666666666666,
              "#ed7953"
             ],
             [
              0.7777777777777778,
              "#fb9f3a"
             ],
             [
              0.8888888888888888,
              "#fdca26"
             ],
             [
              1,
              "#f0f921"
             ]
            ],
            "type": "surface"
           }
          ],
          "table": [
           {
            "cells": {
             "fill": {
              "color": "#EBF0F8"
             },
             "line": {
              "color": "white"
             }
            },
            "header": {
             "fill": {
              "color": "#C8D4E3"
             },
             "line": {
              "color": "white"
             }
            },
            "type": "table"
           }
          ]
         },
         "layout": {
          "annotationdefaults": {
           "arrowcolor": "#2a3f5f",
           "arrowhead": 0,
           "arrowwidth": 1
          },
          "autotypenumbers": "strict",
          "coloraxis": {
           "colorbar": {
            "outlinewidth": 0,
            "ticks": ""
           }
          },
          "colorscale": {
           "diverging": [
            [
             0,
             "#8e0152"
            ],
            [
             0.1,
             "#c51b7d"
            ],
            [
             0.2,
             "#de77ae"
            ],
            [
             0.3,
             "#f1b6da"
            ],
            [
             0.4,
             "#fde0ef"
            ],
            [
             0.5,
             "#f7f7f7"
            ],
            [
             0.6,
             "#e6f5d0"
            ],
            [
             0.7,
             "#b8e186"
            ],
            [
             0.8,
             "#7fbc41"
            ],
            [
             0.9,
             "#4d9221"
            ],
            [
             1,
             "#276419"
            ]
           ],
           "sequential": [
            [
             0,
             "#0d0887"
            ],
            [
             0.1111111111111111,
             "#46039f"
            ],
            [
             0.2222222222222222,
             "#7201a8"
            ],
            [
             0.3333333333333333,
             "#9c179e"
            ],
            [
             0.4444444444444444,
             "#bd3786"
            ],
            [
             0.5555555555555556,
             "#d8576b"
            ],
            [
             0.6666666666666666,
             "#ed7953"
            ],
            [
             0.7777777777777778,
             "#fb9f3a"
            ],
            [
             0.8888888888888888,
             "#fdca26"
            ],
            [
             1,
             "#f0f921"
            ]
           ],
           "sequentialminus": [
            [
             0,
             "#0d0887"
            ],
            [
             0.1111111111111111,
             "#46039f"
            ],
            [
             0.2222222222222222,
             "#7201a8"
            ],
            [
             0.3333333333333333,
             "#9c179e"
            ],
            [
             0.4444444444444444,
             "#bd3786"
            ],
            [
             0.5555555555555556,
             "#d8576b"
            ],
            [
             0.6666666666666666,
             "#ed7953"
            ],
            [
             0.7777777777777778,
             "#fb9f3a"
            ],
            [
             0.8888888888888888,
             "#fdca26"
            ],
            [
             1,
             "#f0f921"
            ]
           ]
          },
          "colorway": [
           "#636efa",
           "#EF553B",
           "#00cc96",
           "#ab63fa",
           "#FFA15A",
           "#19d3f3",
           "#FF6692",
           "#B6E880",
           "#FF97FF",
           "#FECB52"
          ],
          "font": {
           "color": "#2a3f5f"
          },
          "geo": {
           "bgcolor": "white",
           "lakecolor": "white",
           "landcolor": "#E5ECF6",
           "showlakes": true,
           "showland": true,
           "subunitcolor": "white"
          },
          "hoverlabel": {
           "align": "left"
          },
          "hovermode": "closest",
          "mapbox": {
           "style": "light"
          },
          "paper_bgcolor": "white",
          "plot_bgcolor": "#E5ECF6",
          "polar": {
           "angularaxis": {
            "gridcolor": "white",
            "linecolor": "white",
            "ticks": ""
           },
           "bgcolor": "#E5ECF6",
           "radialaxis": {
            "gridcolor": "white",
            "linecolor": "white",
            "ticks": ""
           }
          },
          "scene": {
           "xaxis": {
            "backgroundcolor": "#E5ECF6",
            "gridcolor": "white",
            "gridwidth": 2,
            "linecolor": "white",
            "showbackground": true,
            "ticks": "",
            "zerolinecolor": "white"
           },
           "yaxis": {
            "backgroundcolor": "#E5ECF6",
            "gridcolor": "white",
            "gridwidth": 2,
            "linecolor": "white",
            "showbackground": true,
            "ticks": "",
            "zerolinecolor": "white"
           },
           "zaxis": {
            "backgroundcolor": "#E5ECF6",
            "gridcolor": "white",
            "gridwidth": 2,
            "linecolor": "white",
            "showbackground": true,
            "ticks": "",
            "zerolinecolor": "white"
           }
          },
          "shapedefaults": {
           "line": {
            "color": "#2a3f5f"
           }
          },
          "ternary": {
           "aaxis": {
            "gridcolor": "white",
            "linecolor": "white",
            "ticks": ""
           },
           "baxis": {
            "gridcolor": "white",
            "linecolor": "white",
            "ticks": ""
           },
           "bgcolor": "#E5ECF6",
           "caxis": {
            "gridcolor": "white",
            "linecolor": "white",
            "ticks": ""
           }
          },
          "title": {
           "x": 0.05
          },
          "xaxis": {
           "automargin": true,
           "gridcolor": "white",
           "linecolor": "white",
           "ticks": "",
           "title": {
            "standoff": 15
           },
           "zerolinecolor": "white",
           "zerolinewidth": 2
          },
          "yaxis": {
           "automargin": true,
           "gridcolor": "white",
           "linecolor": "white",
           "ticks": "",
           "title": {
            "standoff": 15
           },
           "zerolinecolor": "white",
           "zerolinewidth": 2
          }
         }
        },
        "title": {
         "text": "Chlamydia Diagnoses by Age Group in England (2015)"
        },
        "updatemenus": [
         {
          "active": 0,
          "buttons": [
           {
            "args": [
             {
              "visible": [
               true,
               false,
               false,
               false,
               false,
               false,
               false,
               false,
               false,
               false
              ]
             },
             {
              "title": "Chlamydia Diagnoses by Age Group in England (2015)"
             }
            ],
            "label": "2015",
            "method": "update"
           },
           {
            "args": [
             {
              "visible": [
               false,
               true,
               false,
               false,
               false,
               false,
               false,
               false,
               false,
               false
              ]
             },
             {
              "title": "Chlamydia Diagnoses by Age Group in England (2016)"
             }
            ],
            "label": "2016",
            "method": "update"
           },
           {
            "args": [
             {
              "visible": [
               false,
               false,
               true,
               false,
               false,
               false,
               false,
               false,
               false,
               false
              ]
             },
             {
              "title": "Chlamydia Diagnoses by Age Group in England (2017)"
             }
            ],
            "label": "2017",
            "method": "update"
           },
           {
            "args": [
             {
              "visible": [
               false,
               false,
               false,
               true,
               false,
               false,
               false,
               false,
               false,
               false
              ]
             },
             {
              "title": "Chlamydia Diagnoses by Age Group in England (2018)"
             }
            ],
            "label": "2018",
            "method": "update"
           },
           {
            "args": [
             {
              "visible": [
               false,
               false,
               false,
               false,
               true,
               false,
               false,
               false,
               false,
               false
              ]
             },
             {
              "title": "Chlamydia Diagnoses by Age Group in England (2019)"
             }
            ],
            "label": "2019",
            "method": "update"
           },
           {
            "args": [
             {
              "visible": [
               false,
               false,
               false,
               false,
               false,
               true,
               false,
               false,
               false,
               false
              ]
             },
             {
              "title": "Chlamydia Diagnoses by Age Group in England (2020)"
             }
            ],
            "label": "2020",
            "method": "update"
           },
           {
            "args": [
             {
              "visible": [
               false,
               false,
               false,
               false,
               false,
               false,
               true,
               false,
               false,
               false
              ]
             },
             {
              "title": "Chlamydia Diagnoses by Age Group in England (2021)"
             }
            ],
            "label": "2021",
            "method": "update"
           },
           {
            "args": [
             {
              "visible": [
               false,
               false,
               false,
               false,
               false,
               false,
               false,
               true,
               false,
               false
              ]
             },
             {
              "title": "Chlamydia Diagnoses by Age Group in England (2022)"
             }
            ],
            "label": "2022",
            "method": "update"
           },
           {
            "args": [
             {
              "visible": [
               false,
               false,
               false,
               false,
               false,
               false,
               false,
               false,
               true,
               false
              ]
             },
             {
              "title": "Chlamydia Diagnoses by Age Group in England (2023)"
             }
            ],
            "label": "2023",
            "method": "update"
           },
           {
            "args": [
             {
              "visible": [
               false,
               false,
               false,
               false,
               false,
               false,
               false,
               false,
               false,
               true
              ]
             },
             {
              "title": "Chlamydia Diagnoses by Age Group in England (2024)"
             }
            ],
            "label": "2024",
            "method": "update"
           }
          ],
          "x": 1.15,
          "y": 0.5
         }
        ]
       }
      }
     },
     "metadata": {},
     "output_type": "display_data"
    }
   ],
   "source": [
    "# Interatively visualising how the proportions of Chlamydia Diagnoses by Age Group change annually using a Pie Chart and Dropdown menu system.\n",
    "\n",
    "# Select the two relevant age groups\n",
    "age_df = chlamydia_df.loc[[10, 11], ['Age', '2015', '2016', '2017', '2018', '2019',\n",
    "                                     '2020', '2021', '2022', '2023', '2024']]\n",
    "\n",
    "# Create a figure with one pie chart per year\n",
    "fig = go.Figure()\n",
    "\n",
    "years = age_df.columns[1:]  # all year columns\n",
    "for i, year in enumerate(years):\n",
    "    fig.add_trace(\n",
    "        go.Pie(\n",
    "            labels=age_df['Age'],\n",
    "            values=age_df[year],\n",
    "            name=str(year),\n",
    "            visible=(i == 0)  # only first year visible at start\n",
    "        )\n",
    "    )\n",
    "\n",
    "# Create buttons for each year\n",
    "buttons = []\n",
    "for i, year in enumerate(years):\n",
    "    # Visible array: True for the selected year, False for others\n",
    "    visible_array = [False] * len(years)\n",
    "    visible_array[i] = True\n",
    "    buttons.append(dict(label=str(year),\n",
    "                        method=\"update\",\n",
    "                        args=[{\"visible\": visible_array},\n",
    "                              {\"title\": f\"Chlamydia Diagnoses by Age Group in England ({year})\"}]))\n",
    "\n",
    "# Add dropdown menu\n",
    "fig.update_layout(\n",
    "    updatemenus=[dict(\n",
    "        active=0,\n",
    "        buttons=buttons,\n",
    "        x=1.15,\n",
    "        y=0.5\n",
    "    )],\n",
    "    title=f\"Chlamydia Diagnoses by Age Group in England ({years[0]})\"\n",
    ")\n",
    "\n",
    "fig.show()"
   ]
  },
  {
   "cell_type": "code",
   "execution_count": null,
   "id": "fe694d7e",
   "metadata": {},
   "outputs": [],
   "source": [
    "# Approximately 1/3 of the diagnoses are from the 15 - 19 and 2/3 of the diagnoses are from the 20 - 24 Age Group. \n",
    "# This could highlight that more public health campaigns promoting safe sex could be targeted at this age group could be benificial in reducing the Chlamydia diagnoses of people aged 15 to 24 years in England. "
   ]
  },
  {
   "cell_type": "markdown",
   "id": "26d5db20",
   "metadata": {},
   "source": [
    "### Plotting Chlamydia Data Against Sunshine and Rainfall Data Using Matplotlib to Show Potential Comparison\n",
    "\n",
    "Successful plotting of Chlamydia data against sunshine and rainfall data."
   ]
  },
  {
   "cell_type": "code",
   "execution_count": 180,
   "id": "c46b1c56",
   "metadata": {},
   "outputs": [
    {
     "data": {
      "image/png": "[encoded data removed]",
      "text/plain": [
       "<Figure size 640x480 with 2 Axes>"
      ]
     },
     "metadata": {},
     "output_type": "display_data"
    },
    {
     "data": {
      "image/png": "[encoded data removed]",
      "text/plain": [
       "<Figure size 640x480 with 2 Axes>"
      ]
     },
     "metadata": {},
     "output_type": "display_data"
    }
   ],
   "source": [
    "t = sunshine_df['Year']\n",
    "data1 = sunshine_df['Annual Sunshine Hours']\n",
    "data2 = y_axis.iloc[0].values  # Extract the values for the age group 15-24\n",
    "fig, ax1 = plt.subplots()\n",
    "color = 'tab:orange' # Set the color for the sunshine data\n",
    "ax1.plot(t, data1, color=color) # Set the color for the sunshine data\n",
    "ax1.tick_params(axis='y', labelcolor=color) # Set the color for the y-axis labels of the sunshine data\n",
    "ax1.set_xlabel('Year', fontsize=14) # Set the x-axis label\n",
    "ax1.set_ylabel('Annual Sunshine Hours', color=color, fontsize=14) # Set the y-axis label for the sunshine data\n",
    "ax1.set_xticks(sunshine_df['Year'])  # Set the x-ticks to the years in the Sunshine DataFrame\n",
    "ax2 = ax1.twinx()  # instantiate a second Axes that shares the same x-axis\n",
    "color = 'tab:green'\n",
    "ax2.set_ylabel('Chlamydia Diagnoses', color=color)  # we already handled the x-label with ax1\n",
    "ax2.plot(t, data2, color=color)\n",
    "ax2.tick_params(axis='y', labelcolor=color)\n",
    "ax2.set_xticks(sunshine_df['Year'])  # Set the x-ticks to the years in the Sunshine DataFrame\n",
    "fig.tight_layout()  # otherwise the right y-label is slightly clipped\n",
    "ax1.legend(['Annual Sunshine Hours'], loc='lower left') # Legend for sunshine data\n",
    "ax2.legend(['Chlamydia Diagnoses'], loc='lower right')  # Legend for chlamydia data\n",
    "plt.title('Annual Sunshine Hours and Chlamydia Diagnoses in England (2015-2024)', fontsize=16) # Set the title of the plot\n",
    "\n",
    "t = rainfall_df['Year']\n",
    "data1 = rainfall_df['Annual Rainfall (mm)']\n",
    "data2 = y_axis.iloc[0].values  # Extract the values for the age group 15-24\n",
    "fig, ax1 = plt.subplots()\n",
    "color = 'tab:blue' # Set the color for the sunshine data\n",
    "ax1.plot(t, data1, color=color) # Set the color for the sunshine data\n",
    "ax1.tick_params(axis='y', labelcolor=color) # Set the color for the y-axis labels of the sunshine data\n",
    "ax1.set_xlabel('Year', fontsize=14) # Set the x-axis label\n",
    "ax1.set_ylabel('Annual Rainfall (mm)', color=color, fontsize=14) # Set the y-axis label for the sunshine data\n",
    "ax1.set_xticks(rainfall_df['Year'])  # Set the x-ticks to the years in the Sunshine DataFrame\n",
    "ax2 = ax1.twinx()  # instantiate a second Axes that shares the same x-axis\n",
    "color = 'tab:green'\n",
    "ax2.set_ylabel('Chlamydia Diagnoses', color=color)  # we already handled the x-label with ax1\n",
    "ax2.plot(t, data2, color=color)\n",
    "ax2.tick_params(axis='y', labelcolor=color)\n",
    "ax2.set_xticks(rainfall_df['Year'])  # Set the x-ticks to the years in the Sunshine DataFrame\n",
    "ax1.legend(['Annual Rainfall (mm)'], loc='lower left') # Legend for sunshine data\n",
    "ax2.legend(['Chlamydia Diagnoses'], loc='lower right')  # Legend for chlamydia data\n",
    "plt.title('Annual Rainfall and Chlamydia Diagnoses in England (2015-2024)', fontsize=16) # Set the title of the plot\n",
    "\n",
    "\n",
    "plt.show()"
   ]
  },
  {
   "cell_type": "code",
   "execution_count": 181,
   "id": "8e814450",
   "metadata": {},
   "outputs": [],
   "source": [
    "# Plotting of data of Chlamydia data against data of sunshine and rainfall is now correct and visualises trends effectively.\n",
    "# There appears to be no correlation between the  Chlamydia and sunshine datasets. \n",
    "# There appears to be no correlation between the Chlamydia and rainfall datasets. "
   ]
  }
 ],
 "metadata": {
  "kernelspec": {
   "display_name": "daz-venv",
   "language": "python",
   "name": "python3"
  },
  "language_info": {
   "codemirror_mode": {
    "name": "ipython",
    "version": 3
   },
   "file_extension": ".py",
   "mimetype": "text/x-python",
   "name": "python",
   "nbconvert_exporter": "python",
   "pygments_lexer": "ipython3",
   "version": "3.13.5"
  }
 },
 "nbformat": 4,
 "nbformat_minor": 5
}
